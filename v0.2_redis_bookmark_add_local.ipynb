{
 "cells": [
  {
   "cell_type": "code",
   "execution_count": 1,
   "metadata": {},
   "outputs": [],
   "source": [
    "from utils import helper_functions"
   ]
  },
  {
   "cell_type": "code",
   "execution_count": 1,
   "metadata": {},
   "outputs": [],
   "source": [
    "# this is an example for cortex release 0.21 and may not deploy correctly on other releases of cortex\n",
    "import os\n",
    "import shutil\n",
    "import glob\n",
    "import math\n",
    "import numpy as np\n",
    "import scipy.spatial\n",
    "from sklearn.cluster import KMeans\n",
    "from sentence_transformers import SentenceTransformer\n",
    "from collections import OrderedDict \n",
    "from itertools import islice\n",
    "import json\n",
    "\n",
    "import boto3\n",
    "\n",
    "import redis\n",
    "\n",
    "from utils import helper_functions, redis_cache_mechanisms\n",
    "\n",
    "\n",
    "class PythonPredictor:\n",
    "\n",
    "    def __init__(self):\n",
    "\n",
    "        # download the information retrieval model trained on MS-MARCO dataset\n",
    "        #self.embedder = SentenceTransformer('distilroberta-base-msmarco-v2')\n",
    "        self.embedder = SentenceTransformer('./models/distilroberta-base-msmarco-v2')\n",
    "        \n",
    "        # set the environment variables\n",
    "        self.redis_host = '127.0.0.1'\n",
    "        self.redis_port = 6379\n",
    "\n",
    "\n",
    "        self.aws_access_key_id = os.getenv('AWS_ACCESS_KEY_ID')\n",
    "        self.aws_secret_access_key = os.getenv('AWS_SECRET_ACCESS_KEY')\n",
    "        \n",
    "           \n",
    "        # establish connection with s3 bucket\n",
    "        \n",
    "        try:  \n",
    "            self.s3 = boto3.client('s3', aws_access_key_id=self.aws_access_key_id , aws_secret_access_key=self.aws_secret_access_key)\n",
    "            print('Connected to s3 bucket!')\n",
    "        except Exception as ex:\n",
    "            print('\\n\\naws client error:', ex)\n",
    "            exit('Failed to connect to s3 bucket, terminating.')\n",
    "        \n",
    "        \n",
    "        # establish connection to redis server to be used as data store persistence\n",
    "\n",
    "        try:\n",
    "            self.r = redis.StrictRedis(host=self.redis_host, port=self.redis_port, decode_responses=True)\n",
    "            self.r.ping()\n",
    "            print('Connected to redis cache!')\n",
    "        except Exception as ex:\n",
    "            print('\\n\\nredis client error:', ex)\n",
    "            exit('Failed to connect to redis, terminating.')\n",
    "\n",
    "        \n",
    "        self.dir = 'tmp'\n",
    "\n",
    "\n",
    "\n",
    "        if os.path.exists(self.dir):\n",
    "            shutil.rmtree(self.dir)\n",
    "        os.makedirs(self.dir)                                           \n",
    "\n",
    "\n",
    "\n",
    "\n",
    "    def predict(self, payload):\n",
    "        \n",
    "        # extract values from the request payload\n",
    "        \n",
    "        # sess stores a file's uuid\n",
    "        # a unique identifier to link to an uploaded file's text file, encodings and top words\n",
    "        sess = payload[\"uuid\"]\n",
    "     \n",
    "        query = payload[\"text\"]\n",
    "\n",
    "        max_results =  payload[\"top\"]\n",
    "        \n",
    "        acc_greater_than  = payload[\"accuracyGreaterThan\"]\n",
    "        \n",
    "        cache_bool_value = redis_cache_mechanisms.check_if_request_to_be_cached(self, sess, query, max_results)\n",
    "        \n",
    "        print('are we caching the values:', cache_bool_value)\n",
    "                \n",
    "        if cache_bool_value:\n",
    "            \n",
    "            # as caching has to be done we request for 50 more lines and cache them\n",
    "            # however we return the exact requested amount of lines to the client\n",
    "            max_results+=50\n",
    "            \n",
    "            # check if the files for the corresponding file id are present on the local disk or not\n",
    "            # return 0 if there's no folder present for the file\n",
    "            sess_dir_find = glob.glob('tmp/'+sess)\n",
    "            new_disk_sess = True if len(sess_dir_find)==0 else False\n",
    "\n",
    "            if new_disk_sess:\n",
    "                # create new cache disk session direct\n",
    "\n",
    "                helper_functions.download_text_file_and_embeddings_from_s3_bucket(self, sess)\n",
    "\n",
    "                corpus, corpus_embeddings = helper_functions.load_text_file_and_embeddings(self, sess)\n",
    "\n",
    "            else:\n",
    "\n",
    "\n",
    "                # accessing from already downloaded encodings and files from disk\n",
    "\n",
    "                print('😉 got you\\'ve covered, model alread encoded 🤘')\n",
    "\n",
    "                corpus, corpus_embeddings = helper_functions.load_text_file_and_embeddings(self, sess)\n",
    "\n",
    "\n",
    "            queries = [str(query)]\n",
    "            \n",
    "\n",
    "            query_embeddings = self.embedder.encode(queries)\n",
    "\n",
    "            queries_and_embeddings=(queries, query_embeddings)\n",
    "            corpus_and_embeddings=(corpus, corpus_embeddings)\n",
    "\n",
    "            response = helper_functions.cluster(self, corpus_and_embeddings, queries_and_embeddings, max_results, acc_greater_than)\n",
    "            \n",
    "            #-------------------------------Redis cache layer---------------------------------\n",
    "            \n",
    "            redis_cache_mechanisms.cache_response_to_redis(self, sess, query, response)\n",
    "            \n",
    "            #----------------------------------------------------------------------------------\n",
    "\n",
    "            response = OrderedDict(islice(response.items(), 0, payload['top']))\n",
    "            \n",
    "            return response\n",
    "\n",
    "        else:\n",
    "\n",
    "            # return from redis cache!\n",
    "\n",
    "            print('file available in redis cache! 😇')\n",
    "\n",
    "            response_cache = redis_cache_mechanisms.get_cache_data_from_redis(self, sess, query, max_results)\n",
    "            \n",
    "            \n",
    "            return response_cache\n",
    "\n"
   ]
  },
  {
   "cell_type": "code",
   "execution_count": 2,
   "metadata": {},
   "outputs": [
    {
     "name": "stdout",
     "output_type": "stream",
     "text": [
      "Connected to s3 bucket!\n",
      "Connected to redis cache!\n"
     ]
    }
   ],
   "source": [
    "pr = PythonPredictor()"
   ]
  },
  {
   "cell_type": "code",
   "execution_count": null,
   "metadata": {},
   "outputs": [],
   "source": []
  },
  {
   "cell_type": "code",
   "execution_count": 31,
   "metadata": {},
   "outputs": [],
   "source": [
    "\n",
    "# 0eb1f558-b4e0-4118-80f1-c7b3e1741fca\n",
    "# 3dc5ea3d-d5e1-4946-91ed-be0d63af8a12\n",
    "# c514e5d4-e0c9-4c6a-a35a-d3ad706c419b\n",
    "\n",
    "payload = {\n",
    "    \"uuid\": \"3dc5ea3d-d5e1-4946-91ed-be0d63af8a12\", \n",
    "    \"text\": \"power\",\n",
    "    \"top\": 59,\n",
    "    \"accuracyGreaterThan\": 0.2\n",
    "}\n"
   ]
  },
  {
   "cell_type": "code",
   "execution_count": 33,
   "metadata": {
    "scrolled": true
   },
   "outputs": [
    {
     "name": "stdout",
     "output_type": "stream",
     "text": [
      "in check for cache or not\n",
      "query not present in cache:  False\n",
      "number of requested lines exceed the ones in cache:  False\n",
      "are we caching the values: False\n",
      "file available in redis cache! 😇\n",
      "[('1613170955442-0', {'content': 'Never has there been so great a symbolic triumph of efficiency over power', 'bookmark_global': '0'})]\n",
      "[('1613170955442-1', {'content': 'Mighty as they are, the power they retain is the power to obliterate, not to command', 'bookmark_global': '0'})]\n",
      "[('1613170955443-0', {'content': 'This determines the importance of magnitude of firepower versus efficiency in employing resources', 'bookmark_global': '0'})]\n",
      "[('1613170955443-1', {'content': '209   great bargaining power', 'bookmark_global': '0'})]\n",
      "[('1613170955443-2', {'content': 'Rather, they are artifacts of past and ongoing efforts to project power', 'bookmark_global': '0'})]\n",
      "[('1613170955444-0', {'content': 'Another important factor that weighs in the    balance in determining whether ultimate power is exercised locally or from a    distance is the scale of the predominant enterprises in which people gain their    livelihoods', 'bookmark_global': '0'})]\n",
      "[('1613170955444-1', {'content': 'Power will once again be exercised on a small scale', 'bookmark_global': '0'})]\n",
      "[('1613170955444-2', {'content': 'They had no choice but to recognize the balance of raw power as they found it', 'bookmark_global': '0'})]\n",
      "[('1613170955445-0', {'content': \"The United States is the world's leading technological power\", 'bookmark_global': '0'})]\n",
      "[('1613170955445-1', {'content': 'The Paradoxes of Power          The use of violence to protect against violence is fraught with paradoxes', 'bookmark_global': '0'})]\n",
      "[('1613170955445-2', {'content': 'Not only is power in the world changing, but the work of the world is changing as well', 'bookmark_global': '0'})]\n",
      "[('1613170955446-0', {'content': 'The Megapolitics of the Information Age: The Triumph of Efficiency over Power 1', 'bookmark_global': '0'})]\n",
      "[('1613170955446-1', {'content': 'Still another factor that contributes to the power    equation is the degree of dispersal of key technologies', 'bookmark_global': '0'})]\n",
      "[('1613170955446-2', {'content': 'If true, however, it did not prove to be a significant barrier to the exercise of power', 'bookmark_global': '0'})]\n",
      "[('1613170955447-0', {'content': 'No organization could mobilize military power effectively if the individuals it sent into battle felt free to calculate where their own best advantage lay, and join in the fight or run away accordingly', 'bookmark_global': '0'})]\n",
      "[('1613170955447-1', {'content': '21 One Chance in 250,000,000           Nonetheless, Partners in Power contains details that would interest any student of the corruption of modern American politics', 'bookmark_global': '0'})]\n",
      "[('1613170955447-2', {'content': 'Where the power is small or insecurely possessed, it must be exercised overtly and extensively; large and unchallenged, it becomes like the power of government, confidently held, respectfully regarded, and rarely displayed conspicuously', 'bookmark_global': '0'})]\n",
      "[('1613170955448-0', {'content': 'The technical challenge of maintaining the purchasing power of savings is trivial', 'bookmark_global': '0'})]\n",
      "[('1613170955448-1', {'content': 'We expect to see efficiency predominate over massed power', 'bookmark_global': '0'})]\n",
      "[('1613170955449-0', {'content': 'Power, as William Playfair wrote, \"has always sought          the readiest road to wealth, by attacking those who were in possession of it', 'bookmark_global': '0'})]\n",
      "[('1613170955449-1', {'content': 'Their unchecked control over resources conveyed an important military advantage so long as magnitude of power predominated over the efficiency with which it was used', 'bookmark_global': '0'})]\n",
      "[('1613170955449-2', {'content': 'About the right use of this      power it does not say a word', 'bookmark_global': '0'})]\n",
      "[('1613170955450-0', {'content': 'They separated the exercise of power from physical strength, thereby lowering the opportunity costs of mercantile activity', 'bookmark_global': '0'})]\n",
      "[('1613170955450-1', {'content': 'Efforts to contain violence will also devolve in ways that depend more upon efficiency than magnitude of power', 'bookmark_global': '0'})]\n",
      "[('1613170955451-0', {'content': 'The efficient users of talent and capital will have a decisive advantage over those with moderate skills or little capital', 'bookmark_global': '0'})]\n",
      "[('1613170955451-1', {'content': 'As William Playfair said of the Middle Ages, \"While human force was the power by which men were annoyed, in cases of hostility,', 'bookmark_global': '0'})]\n",
      "[('1613170955451-2', {'content': 'This loss of power by nation-states is a logical consequence of the advent of low- cost, advanced computational capacity', 'bookmark_global': '0'})]\n",
      "[('1613170955451-3', {'content': 'Money was needed to do that, but money itself could not win a battle', 'bookmark_global': '0'})]\n",
      "[('1613170955452-0', {'content': 'Control over resources will shift away from the state to persons of superior     skills and intelligence, as more wealth will be created by adding knowledge to     products', 'bookmark_global': '0'})]\n",
      "[('1613170955452-1', {'content': 'The nature of gunpowder weapons and the character of the industrial economy created great advantages of scale in warfare', 'bookmark_global': '0'})]\n",
      "[('1613170955452-2', {'content': 'More examples of these new applications of advanced computational power are spelled out below', 'bookmark_global': '0'})]\n",
      "[('1613170955453-0', {'content': 'Power relations were progressively destabilized by the growing importance of heavy cavalry', 'bookmark_global': '0'})]\n",
      "[('1613170955453-1', {'content': 'The fulcrum of power underlying history has shifted', 'bookmark_global': '0'})]\n",
      "[('1613170955453-2', {'content': 'Roger Morris, Partners in Power (New York: Henry Holt, 1996), p', 'bookmark_global': '0'})]\n",
      "[('1613170955454-0', {'content': 'Powerful competitive forces are tending to equalize the prices of goods, services, labor, and capital across the globe', 'bookmark_global': '0'})]\n",
      "[('1613170955454-1', {'content': 'There were rising returns to violence that made magnitude of force more important than efficiency as a governing principle', 'bookmark_global': '0'})]\n",
      "[('1613170955454-2', {'content': 'Efficiency will  rapidly become more important than the dictates of power in the organization of social  institutions', 'bookmark_global': '0'})]\n",
      "[('1613170955455-0', {'content': 'The logic of force, therefore, tells you that the more competing armed groups there are operating in any territory, the higher the likelihood that they will resort to predatory violence', 'bookmark_global': '0'})]\n",
      "[('1613170955455-1', {'content': \"Since economic resources fell short of what was needed, the strong fought to secure the chief share for themselves with a violence and unscrupulousness well in keeping with the origin of those in power and with a soldier' accustomed to plunder\", 'bookmark_global': '0'})]\n",
      "[('1613170955455-2', {'content': 'Better communications and vastly increased computational power not only make coordination of complex activities cheaper and more effective; they also lower scale economies and dissolve large organizations', 'bookmark_global': '0'})]\n",
      "[('1613170955456-0', {'content': 'As Thomas Schelling shrewdly put it, \"The power to hurt -to destroy things that somebody treasures, to inflict pain and grief is a kind of bargaining power, not easy to use but used often', 'bookmark_global': '0'})]\n",
      "[('1613170955456-1', {'content': 'The power advantages that have given one group or another a local monopoly on violence have heretofore always originated someplace and faded along the megapolitical margins where borders are drawn', 'bookmark_global': '0'})]\n",
      "[('1613170955456-2', {'content': 'Such power has existed for only a few generations of the modern period', 'bookmark_global': '0'})]\n",
      "[('1613170955457-0', {'content': 'The decisiveness of massed power mobilized the allegiance of the wealthy and ambitious to OECD nation-states, notwithstanding predatory taxes imposed on income and capital', 'bookmark_global': '0'})]\n",
      "[('1613170955457-1', {'content': 'They certainly could not  have foreseen how it would shift the balance between power and efficiency and thus  revolutionize the way that assets are created and protected', 'bookmark_global': '0'})]\n",
      "[('1613170955458-0', {'content': 'If the state is all-powerful, then the state becomes the great enemy of life, as in wars of aggression, and of individual property, by taking an inordinate share of the national wealth for its own often undesirable and always wasteful purposes', 'bookmark_global': '0'})]\n",
      "[('1613170955458-1', {'content': 'A slight acquaintance with numbers will show the immensity of the first power in comparison of the second', 'bookmark_global': '0'})]\n",
      "[('1613170955458-2', {'content': 'With every day that passes, it becomes easier for people using highly portable information technology to create assets that are far less subject to the leverage of violence than any form of wealth has ever been before', 'bookmark_global': '0'})]\n",
      "[('1613170955459-0', {'content': 'Success for a sovereignty in the modern period lay not in creating wealth but in creating a military force capable of deploying overpowering violence against any other state', 'bookmark_global': '0'})]\n",
      "[('1613170955459-1', {'content': 'That fact alone is a telling indicator of the rise in the power of the state from the fifteenth to the twentieth centuries', 'bookmark_global': '0'})]\n",
      "[('1613170955459-2', {'content': 'That is not to say, of course, that there cannot be deadly eruptions of disease that alter the balance of power', 'bookmark_global': '0'})]\n",
      "[('1613170955460-0', {'content': 'Weapons         that are relatively cheap, can be employed by nonprofessionals, and enhance the         military importance of infantry tend to equalize power', 'bookmark_global': '0'})]\n",
      "[('1613170955460-1', {'content': '\" 23 When gunpowder came along, it was impossible to be powerful without being rich', 'bookmark_global': '0'})]\n",
      "[('1613170955460-2', {'content': 'The technology of the Information Age makes it possible to create assets that are outside the reach of many forms of coercion', 'bookmark_global': '0'})]\n",
      "[('1613170955461-0', {'content': 'When weapons or tools of    production can be effectively hoarded or monopolized, they tend to centralize    power', 'bookmark_global': '0'})]\n",
      "[('1613170955461-1', {'content': 'A single knight exercised far    more brute force than dozens of peasants put together', 'bookmark_global': '0'})]\n",
      "[('1613170955461-2', {'content': 'it is computerized information, not manpower or mass production that increasingly drives the US', 'bookmark_global': '0'})]\n",
      "[('1613170955462-0', {'content': 'It inescapably implies that when magnitude means more than efficiency, governments controlled by their customers cannot prevail, and often, cannot survive', 'bookmark_global': '0'})]\n",
      "[('1613170955462-1', {'content': 'Thompson, War and State Making: The Shaping of the Global Powers', 'bookmark_global': '0'})]\n"
     ]
    },
    {
     "data": {
      "text/plain": [
       "59"
      ]
     },
     "execution_count": 33,
     "metadata": {},
     "output_type": "execute_result"
    }
   ],
   "source": [
    "resp = pr.predict(payload)\n"
   ]
  },
  {
   "cell_type": "code",
   "execution_count": 15,
   "metadata": {},
   "outputs": [
    {
     "data": {
      "text/plain": [
       "[['Never has there been so great a symbolic triumph of efficiency over power',\n",
       "  '0.5449'],\n",
       " ['Mighty as they are, the power they retain is the power to obliterate, not to command',\n",
       "  '0.4837'],\n",
       " ['This determines the importance of magnitude of firepower versus efficiency in employing resources',\n",
       "  '0.4654'],\n",
       " ['209   great bargaining power', '0.4641'],\n",
       " ['Rather, they are artifacts of past and ongoing efforts to project power',\n",
       "  '0.4592'],\n",
       " ['Another important factor that weighs in the    balance in determining whether ultimate power is exercised locally or from a    distance is the scale of the predominant enterprises in which people gain their    livelihoods',\n",
       "  '0.4590'],\n",
       " ['Power will once again be exercised on a small scale', '0.4310'],\n",
       " ['They had no choice but to recognize the balance of raw power as they found it',\n",
       "  '0.4261'],\n",
       " [\"The United States is the world's leading technological power\", '0.4238'],\n",
       " ['The Paradoxes of Power          The use of violence to protect against violence is fraught with paradoxes',\n",
       "  '0.4152'],\n",
       " ['Not only is power in the world changing, but the work of the world is changing as well',\n",
       "  '0.4132'],\n",
       " ['The Megapolitics of the Information Age: The Triumph of Efficiency over Power 1',\n",
       "  '0.4115'],\n",
       " ['Still another factor that contributes to the power    equation is the degree of dispersal of key technologies',\n",
       "  '0.4102'],\n",
       " ['If true, however, it did not prove to be a significant barrier to the exercise of power',\n",
       "  '0.4099'],\n",
       " ['No organization could mobilize military power effectively if the individuals it sent into battle felt free to calculate where their own best advantage lay, and join in the fight or run away accordingly',\n",
       "  '0.4033'],\n",
       " ['21 One Chance in 250,000,000           Nonetheless, Partners in Power contains details that would interest any student of the corruption of modern American politics',\n",
       "  '0.4006'],\n",
       " ['Where the power is small or insecurely possessed, it must be exercised overtly and extensively; large and unchallenged, it becomes like the power of government, confidently held, respectfully regarded, and rarely displayed conspicuously',\n",
       "  '0.3946'],\n",
       " ['The technical challenge of maintaining the purchasing power of savings is trivial',\n",
       "  '0.3936'],\n",
       " ['We expect to see efficiency predominate over massed power', '0.3890'],\n",
       " ['Power, as William Playfair wrote, \"has always sought          the readiest road to wealth, by attacking those who were in possession of it',\n",
       "  '0.3888'],\n",
       " ['Their unchecked control over resources conveyed an important military advantage so long as magnitude of power predominated over the efficiency with which it was used',\n",
       "  '0.3864'],\n",
       " ['About the right use of this      power it does not say a word', '0.3853'],\n",
       " ['They separated the exercise of power from physical strength, thereby lowering the opportunity costs of mercantile activity',\n",
       "  '0.3848'],\n",
       " ['Efforts to contain violence will also devolve in ways that depend more upon efficiency than magnitude of power',\n",
       "  '0.3824'],\n",
       " ['The efficient users of talent and capital will have a decisive advantage over those with moderate skills or little capital',\n",
       "  '0.3785'],\n",
       " ['As William Playfair said of the Middle Ages, \"While human force was the power by which men were annoyed, in cases of hostility,',\n",
       "  '0.3730'],\n",
       " ['This loss of power by nation-states is a logical consequence of the advent of low- cost, advanced computational capacity',\n",
       "  '0.3719'],\n",
       " ['Money was needed to do that, but money itself could not win a battle',\n",
       "  '0.3699'],\n",
       " ['Control over resources will shift away from the state to persons of superior     skills and intelligence, as more wealth will be created by adding knowledge to     products',\n",
       "  '0.3696'],\n",
       " ['The nature of gunpowder weapons and the character of the industrial economy created great advantages of scale in warfare',\n",
       "  '0.3689'],\n",
       " ['More examples of these new applications of advanced computational power are spelled out below',\n",
       "  '0.3659'],\n",
       " ['Power relations were progressively destabilized by the growing importance of heavy cavalry',\n",
       "  '0.3655'],\n",
       " ['The fulcrum of power underlying history has shifted', '0.3612'],\n",
       " ['Roger Morris, Partners in Power (New York: Henry Holt, 1996), p', '0.3577'],\n",
       " ['Powerful competitive forces are tending to equalize the prices of goods, services, labor, and capital across the globe',\n",
       "  '0.3573'],\n",
       " ['There were rising returns to violence that made magnitude of force more important than efficiency as a governing principle',\n",
       "  '0.3568'],\n",
       " ['Efficiency will  rapidly become more important than the dictates of power in the organization of social  institutions',\n",
       "  '0.3566'],\n",
       " ['The logic of force, therefore, tells you that the more competing armed groups there are operating in any territory, the higher the likelihood that they will resort to predatory violence',\n",
       "  '0.3557'],\n",
       " [\"Since economic resources fell short of what was needed, the strong fought to secure the chief share for themselves with a violence and unscrupulousness well in keeping with the origin of those in power and with a soldier' accustomed to plunder\",\n",
       "  '0.3554'],\n",
       " ['Better communications and vastly increased computational power not only make coordination of complex activities cheaper and more effective; they also lower scale economies and dissolve large organizations',\n",
       "  '0.3547'],\n",
       " ['As Thomas Schelling shrewdly put it, \"The power to hurt -to destroy things that somebody treasures, to inflict pain and grief is a kind of bargaining power, not easy to use but used often',\n",
       "  '0.3543'],\n",
       " ['The power advantages that have given one group or another a local monopoly on violence have heretofore always originated someplace and faded along the megapolitical margins where borders are drawn',\n",
       "  '0.3522'],\n",
       " ['Such power has existed for only a few generations of the modern period',\n",
       "  '0.3518'],\n",
       " ['The decisiveness of massed power mobilized the allegiance of the wealthy and ambitious to OECD nation-states, notwithstanding predatory taxes imposed on income and capital',\n",
       "  '0.3481'],\n",
       " ['They certainly could not  have foreseen how it would shift the balance between power and efficiency and thus  revolutionize the way that assets are created and protected',\n",
       "  '0.3460'],\n",
       " ['If the state is all-powerful, then the state becomes the great enemy of life, as in wars of aggression, and of individual property, by taking an inordinate share of the national wealth for its own often undesirable and always wasteful purposes',\n",
       "  '0.3445'],\n",
       " ['A slight acquaintance with numbers will show the immensity of the first power in comparison of the second',\n",
       "  '0.3426'],\n",
       " ['With every day that passes, it becomes easier for people using highly portable information technology to create assets that are far less subject to the leverage of violence than any form of wealth has ever been before',\n",
       "  '0.3402'],\n",
       " ['Success for a sovereignty in the modern period lay not in creating wealth but in creating a military force capable of deploying overpowering violence against any other state',\n",
       "  '0.3387'],\n",
       " ['That fact alone is a telling indicator of the rise in the power of the state from the fifteenth to the twentieth centuries',\n",
       "  '0.3327'],\n",
       " ['That is not to say, of course, that there cannot be deadly eruptions of disease that alter the balance of power',\n",
       "  '0.3325'],\n",
       " ['Weapons         that are relatively cheap, can be employed by nonprofessionals, and enhance the         military importance of infantry tend to equalize power',\n",
       "  '0.3322'],\n",
       " ['\" 23 When gunpowder came along, it was impossible to be powerful without being rich',\n",
       "  '0.3305'],\n",
       " ['The technology of the Information Age makes it possible to create assets that are outside the reach of many forms of coercion',\n",
       "  '0.3286'],\n",
       " ['When weapons or tools of    production can be effectively hoarded or monopolized, they tend to centralize    power',\n",
       "  '0.3229'],\n",
       " ['A single knight exercised far    more brute force than dozens of peasants put together',\n",
       "  '0.3228'],\n",
       " ['it is computerized information, not manpower or mass production that increasingly drives the US',\n",
       "  '0.3203'],\n",
       " ['It inescapably implies that when magnitude means more than efficiency, governments controlled by their customers cannot prevail, and often, cannot survive',\n",
       "  '0.3202']]"
      ]
     },
     "execution_count": 15,
     "metadata": {},
     "output_type": "execute_result"
    }
   ],
   "source": [
    "resp"
   ]
  },
  {
   "cell_type": "code",
   "execution_count": 8,
   "metadata": {},
   "outputs": [
    {
     "ename": "NameError",
     "evalue": "name 'b' is not defined",
     "output_type": "error",
     "traceback": [
      "\u001b[0;31m---------------------------------------------------------------------------\u001b[0m",
      "\u001b[0;31mNameError\u001b[0m                                 Traceback (most recent call last)",
      "\u001b[0;32m<ipython-input-8-89e6c98d9288>\u001b[0m in \u001b[0;36m<module>\u001b[0;34m\u001b[0m\n\u001b[0;32m----> 1\u001b[0;31m \u001b[0mb\u001b[0m\u001b[0;34m\u001b[0m\u001b[0;34m\u001b[0m\u001b[0m\n\u001b[0m",
      "\u001b[0;31mNameError\u001b[0m: name 'b' is not defined"
     ]
    }
   ],
   "source": [
    "b"
   ]
  },
  {
   "cell_type": "code",
   "execution_count": null,
   "metadata": {},
   "outputs": [],
   "source": [
    "#og\n",
    "resp"
   ]
  },
  {
   "cell_type": "code",
   "execution_count": null,
   "metadata": {},
   "outputs": [],
   "source": [
    "for l, b in list(a.items()):\n",
    "    print(l, b)"
   ]
  },
  {
   "cell_type": "code",
   "execution_count": null,
   "metadata": {},
   "outputs": [],
   "source": [
    "resp = pr.predict(payload)"
   ]
  },
  {
   "cell_type": "code",
   "execution_count": null,
   "metadata": {},
   "outputs": [],
   "source": []
  },
  {
   "cell_type": "code",
   "execution_count": null,
   "metadata": {},
   "outputs": [],
   "source": [
    "import redis\n",
    "redis_host = \"localhost\"\n",
    "redis_port = 6379"
   ]
  },
  {
   "cell_type": "code",
   "execution_count": null,
   "metadata": {},
   "outputs": [],
   "source": [
    "r = redis.StrictRedis(host=redis_host, port=redis_port, decode_responses=True)"
   ]
  },
  {
   "cell_type": "code",
   "execution_count": null,
   "metadata": {},
   "outputs": [],
   "source": [
    "#XADD mystream * name Sara surname OConnor\n",
    "\n",
    "a = r.xadd('qid1:', {'content': 'enlightenment is the space between your thoughts', 'bookmark': 959 })\n",
    "print(a, type(a))"
   ]
  },
  {
   "cell_type": "code",
   "execution_count": null,
   "metadata": {},
   "outputs": [],
   "source": [
    "r.xlen('qid1:')"
   ]
  },
  {
   "cell_type": "code",
   "execution_count": null,
   "metadata": {},
   "outputs": [],
   "source": [
    "%time\n",
    "r.xrange('qid1:', '-', '+')"
   ]
  },
  {
   "cell_type": "code",
   "execution_count": null,
   "metadata": {},
   "outputs": [],
   "source": [
    "%time\n",
    "r.xrevrange('qid13:', '+', '-', count=1)"
   ]
  },
  {
   "cell_type": "code",
   "execution_count": null,
   "metadata": {},
   "outputs": [],
   "source": []
  },
  {
   "cell_type": "code",
   "execution_count": null,
   "metadata": {},
   "outputs": [],
   "source": []
  },
  {
   "cell_type": "code",
   "execution_count": 20,
   "metadata": {},
   "outputs": [],
   "source": [
    "file_list = []\n",
    "with open('tmp/3dc5ea3d-d5e1-4946-91ed-be0d63af8a12/text_content.txt', 'r') as file:\n",
    "    file_list = file.read()"
   ]
  },
  {
   "cell_type": "code",
   "execution_count": 23,
   "metadata": {},
   "outputs": [
    {
     "name": "stdout",
     "output_type": "stream",
     "text": [
      "691eeed7504e4832bf76f1b49603edd816428804\n",
      "69 1eeed7504e4832bf76f1b49603edd816428804\n"
     ]
    }
   ],
   "source": [
    "import hashlib\n",
    "import sys\n",
    "\n",
    "def hash_it(string):\n",
    "    return hashlib.sha1(string.encode('utf-8')).hexdigest()\n",
    "\n",
    "a = hash_it(' You could have pocketed anaverage real return of more than 30 percent annually in U')\n",
    "print(a)\n",
    "print(a[:2], a[2::])"
   ]
  },
  {
   "cell_type": "code",
   "execution_count": null,
   "metadata": {},
   "outputs": [],
   "source": [
    "%time\n",
    "\n",
    "maxi=0\n",
    "maxline=''\n",
    "for l in file_list:\n",
    "    if len(l) > maxi:\n",
    "        maxi=len(l)\n",
    "        maxline=l\n",
    "    line_id = r.hincrby('ids', 'si:lines', 1)\n",
    "    hash_line = hash_it(l)\n",
    "    r.hset('file:si:'+hash_line[:2], hash_line[3::], line_id)"
   ]
  },
  {
   "cell_type": "code",
   "execution_count": null,
   "metadata": {},
   "outputs": [],
   "source": [
    "%time\n",
    "maxi=0\n",
    "maxline=''\n",
    "for l in file_list:\n",
    "    if len(l) > maxi:\n",
    "        maxi=len(l)\n",
    "        maxline=l\n",
    "    line_id = r.hincrby('ids', 'si:lines', 1)\n",
    "    hash_line = hash_it(l)\n",
    "    r.hset('file:si:', l, line_id)"
   ]
  }
 ],
 "metadata": {
  "kernelspec": {
   "display_name": "pyenv_semantic",
   "language": "python",
   "name": "pyenv_semantic"
  },
  "language_info": {
   "codemirror_mode": {
    "name": "ipython",
    "version": 3
   },
   "file_extension": ".py",
   "mimetype": "text/x-python",
   "name": "python",
   "nbconvert_exporter": "python",
   "pygments_lexer": "ipython3",
   "version": "3.8.7"
  }
 },
 "nbformat": 4,
 "nbformat_minor": 2
}
