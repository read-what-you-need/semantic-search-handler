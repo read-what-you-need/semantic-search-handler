{
 "cells": [
  {
   "cell_type": "code",
   "execution_count": 1,
   "metadata": {},
   "outputs": [],
   "source": [
    "from utils import helper_functions"
   ]
  },
  {
   "cell_type": "code",
   "execution_count": 1,
   "metadata": {},
   "outputs": [],
   "source": [
    "# this is an example for cortex release 0.21 and may not deploy correctly on other releases of cortex\n",
    "import os\n",
    "import shutil\n",
    "import glob\n",
    "import math\n",
    "import numpy as np\n",
    "import scipy.spatial\n",
    "from sklearn.cluster import KMeans\n",
    "from sentence_transformers import SentenceTransformer\n",
    "from collections import OrderedDict \n",
    "from itertools import islice\n",
    "import json\n",
    "\n",
    "import boto3\n",
    "\n",
    "import redis\n",
    "\n",
    "from utils import helper_functions, redis_cache_mechanisms\n",
    "\n",
    "\n",
    "class PythonPredictor:\n",
    "\n",
    "    def __init__(self):\n",
    "\n",
    "        # download the information retrieval model trained on MS-MARCO dataset\n",
    "        #self.embedder = SentenceTransformer('distilroberta-base-msmarco-v2')\n",
    "        self.embedder = SentenceTransformer('./models/distilroberta-base-msmarco-v2')\n",
    "        \n",
    "        # set the environment variables\n",
    "        self.redis_host = '127.0.0.1'\n",
    "        self.redis_port = 6379\n",
    "\n",
    "\n",
    "        self.aws_access_key_id = os.getenv('AWS_ACCESS_KEY_ID')\n",
    "        self.aws_secret_access_key = os.getenv('AWS_SECRET_ACCESS_KEY')\n",
    "        \n",
    "         \n",
    "        # establish connection with s3 bucket\n",
    "        \n",
    "        try:  \n",
    "            self.s3 = boto3.client('s3', aws_access_key_id=self.aws_access_key_id , aws_secret_access_key=self.aws_secret_access_key)\n",
    "            print('Connected to s3 bucket!')\n",
    "        except Exception as ex:\n",
    "            print('\\n\\naws client error:', ex)\n",
    "            exit('Failed to connect to s3 bucket, terminating.')\n",
    "        \n",
    "        \n",
    "        # establish connection to redis server to be used as data store persistence\n",
    "\n",
    "        try:\n",
    "            self.r = redis.StrictRedis(host=self.redis_host, port=self.redis_port, decode_responses=True)\n",
    "            \n",
    "            self.r.ping()\n",
    "            print('Connected to redis cache!')\n",
    "        except Exception as ex:\n",
    "            print('\\n\\nredis client error:', ex)\n",
    "            exit('Failed to connect to redis, terminating.')\n",
    "\n",
    "        \n",
    "        self.dir = 'tmp'\n",
    "\n",
    "\n",
    "\n",
    "        if os.path.exists(self.dir):\n",
    "            shutil.rmtree(self.dir)\n",
    "        os.makedirs(self.dir)                                           \n",
    "\n",
    "\n",
    "\n",
    "\n",
    "    def predict(self, payload):\n",
    "        \n",
    "        # extract values from the request payload\n",
    "        \n",
    "        # sess stores a file's uuid\n",
    "        # a unique identifier to link to an uploaded file's text file, encodings and top words\n",
    "        sess = payload[\"uuid\"]\n",
    "     \n",
    "        query = payload[\"text\"]\n",
    "\n",
    "        max_results =  payload[\"top\"]\n",
    "        \n",
    "        acc_greater_than  = payload[\"accuracyGreaterThan\"]\n",
    "        \n",
    "        cache_bool_value = redis_cache_mechanisms.check_if_request_to_be_cached(self, sess, query, max_results)\n",
    "                \n",
    "        if cache_bool_value:\n",
    "            \n",
    "            # as caching has to be done we request for 50 more lines and cache them\n",
    "            # however we return the exact requested amount of lines to the client\n",
    "            max_results+=50\n",
    "            \n",
    "            # check if the files for the corresponding file id are present on the local disk or not\n",
    "            # return 0 if there's no folder present for the file\n",
    "            sess_dir_find = glob.glob('tmp/'+sess)\n",
    "            new_disk_sess = True if len(sess_dir_find)==0 else False\n",
    "\n",
    "            if new_disk_sess:\n",
    "                # create new cache disk session direct\n",
    "\n",
    "                helper_functions.download_text_file_and_embeddings_from_s3_bucket(self, sess)\n",
    "\n",
    "                corpus, corpus_embeddings = helper_functions.load_text_file_and_embeddings(self, sess)\n",
    "\n",
    "            else:\n",
    "\n",
    "\n",
    "                # accessing from already downloaded encodings and files from disk\n",
    "\n",
    "                print('😉 got you\\'ve covered, model alread encoded 🤘')\n",
    "\n",
    "                corpus, corpus_embeddings = helper_functions.load_text_file_and_embeddings(self, sess)\n",
    "\n",
    "\n",
    "            queries = [str(query)]\n",
    "            \n",
    "\n",
    "            query_embeddings = self.embedder.encode(queries)\n",
    "\n",
    "            queries_and_embeddings=(queries, query_embeddings)\n",
    "            corpus_and_embeddings=(corpus, corpus_embeddings)\n",
    "\n",
    "            response = helper_functions.cluster(self, corpus_and_embeddings, queries_and_embeddings, max_results, acc_greater_than)\n",
    "            \n",
    "            # =============================Redis cache layer===========================================\n",
    "            \n",
    "            # the response is stored in redis cache, setting up the data model and feeding data into it\n",
    "            redis_cache_mechanisms.cache_response_to_redis(self, sess, query, response)\n",
    "            \n",
    "            # =========================================================================================\n",
    "\n",
    "            response = OrderedDict(islice(response.items(), 0, payload['top']))\n",
    "            \n",
    "            return response\n",
    "\n",
    "        else:\n",
    "\n",
    "            # return from redis cache!\n",
    "\n",
    "            print('file available in redis cache! 😇')\n",
    "\n",
    "            response_cache = redis_cache_mechanisms.get_cache_data_from_redis(self, sess, query, max_results)\n",
    "            \n",
    "            return response_cache\n",
    "\n"
   ]
  },
  {
   "cell_type": "code",
   "execution_count": 2,
   "metadata": {},
   "outputs": [
    {
     "name": "stdout",
     "output_type": "stream",
     "text": [
      "Connected to s3 bucket!\n",
      "Connected to redis cache!\n"
     ]
    }
   ],
   "source": [
    "pr = PythonPredictor()"
   ]
  },
  {
   "cell_type": "code",
   "execution_count": null,
   "metadata": {},
   "outputs": [],
   "source": []
  },
  {
   "cell_type": "code",
   "execution_count": 9,
   "metadata": {},
   "outputs": [],
   "source": [
    "\n",
    "# 0eb1f558-b4e0-4118-80f1-c7b3e1741fca\n",
    "# 3dc5ea3d-d5e1-4946-91ed-be0d63af8a12\n",
    "# c514e5d4-e0c9-4c6a-a35a-d3ad706c419b\n",
    "\n",
    "payload = {\n",
    "    \"uuid\": \"3dc5ea3d-d5e1-4946-91ed-be0d63af8a12\", \n",
    "    \"text\": \"sympathy\",\n",
    "    \"top\": 60,\n",
    "    \"accuracyGreaterThan\": 0.2\n",
    "}\n"
   ]
  },
  {
   "cell_type": "code",
   "execution_count": 10,
   "metadata": {
    "scrolled": true
   },
   "outputs": [
    {
     "name": "stdout",
     "output_type": "stream",
     "text": [
      "in check for cache or not\n",
      "😉 got you've covered, model alread encoded 🤘\n",
      "text files for 3dc5ea3d-d5e1-4946-91ed-be0d63af8a12 loaded succesfully\n",
      "\"Piety,\" like \"compassion,\" was an almost superstitious invocation (Score: 0.4356)\n",
      "Chivalry Yields to Citizenship          Chivalry faded away, to be replaced by citizenship, when megapolitical conditions changed and the military purpose of the vow to one's lord was antiquated (Score: 0.3801)\n",
      "\"53 Piety and Compassion The piety that rationalized the saturation of society by organized religion in the late Middle Ages served the same purpose as the \"compassion\" that is meant to justify the political domination of life today (Score: 0.3756)\n",
      "Both chivalry and citizenship added an extra dimension to the simple calculus that would otherwise deter unindoctrinated human beings from going onto a battlefield and staying there when the going got rough (Score: 0.3699)\n",
      "(Sacrifice that primarily benefits others may actually harm the inclusive fitness of the selfish gene by reducing the prospects that it will be represented in succeeding populations (Score: 0.3641)\n",
      "For each symbolic connection implies a difference of rank or sanctity (Score: 0.3559)\n",
      "They were gestures of the seriousness with which vows were held, a logic that is not entirely foreign even today to fraternity or sorority initiations (Score: 0.3518)\n",
      "Patriotism, certainly, does not rank very high in their hierarchy of virtues (Score: 0.3517)\n",
      "The sale of indulgences to satisfy a desire for piety without morals parallels lavish welfare spending to slake the pretense of compassion without charity (Score: 0.3455)\n",
      "At a time when private wars of covetousness were commonplace,'12 the exercise of power and the very survival of individuals depended upon the willingness of others to fulfill their promises of military service under conditions of duress (Score: 0.3417)\n",
      "THE COMMERCIALIZATION OF SOVEREIGNTY          Seen in cost-benefit terms, citizenship was already a dreadful bargain as the twentieth century drew to a close (Score: 0.3350)\n",
      "As an ideology, nationalism is well placed to draw upon universal emotional needs (Score: 0.3340)\n",
      "Pharisaism, the conviction that one is uniquely virtuous, is as old as humankind, and was particularly offensive to Jesus Christ (Score: 0.3277)\n",
      "\"Specifically, a gene for kinship helping instructs a man (other things equal) to give his life if he can thereby save two siblings, four half-siblings, eight cousins, etc (Score: 0.3244)\n",
      "When the hope of aid for those falling behind is based primarily upon appeals to private individuals and charitable bodies, it will be more important than it has been in the twentieth century that the recipients of charity appear to be morally deserving to those voluntarily dispensing the charity (Score: 0.3182)\n",
      "Religious services grew more numerous, with special festivals in honor of the seven sorrows of Mary, of her sisters, and of all the saints of Jesus' genealogy (Score: 0.3169)\n",
      "Much of the appeal of nationalism can be traced to the way that these identification devices have been adopted and dressed up in the language of kinship, as illustrated in the French soldiers' chant quoted above (Score: 0.3161)\n",
      "They associate the nation with an individual's sense of \"inclusive fitness,\" a powerful motive for altruism and sacrifice (Score: 0.3145)\n",
      "It should include tolerance and avoid self-righteousness (Score: 0.3140)\n",
      "This was a necessity in a society where protection was organized in exchange for personal services (Score: 0.3104)\n",
      "\"43 By \"reciprocity\" Van Den Berghe means \"cooperation for mutual benefit (Score: 0.3086)\n",
      "Sovereignty will be commercialized rather than predatory (Score: 0.3073)\n",
      "Personal ability and personal choice-individual \"pursuit of happiness,\" in the modern sense-were suppressed by taboos and social restrictions that have always been most emphatic among the poor (Score: 0.3036)\n",
      "The cachet was primarily the product of the      Church's policy of Christianizing knighthood by sanctifying the ceremony of      knighting and by sponsoring a code of behavior known as chivalry, a code perhaps      violated more often than honored, but exercising incontestable influence on the      thought and conduct of posterity (Score: 0.3031)\n",
      "In any event, all actual kinship is definable in mathematical terms as the \"coefficient of relatedness,\" which Hamilton calculated as a measure of genetic overlap (Score: 0.3004)\n",
      "There was attachment to patria, land of one's fathers, or patriotism, but to speak of nationalism before modern times is anachronistic (Score: 0.2983)\n",
      "Therefore, the willingness to undertake helping, let alone sacrifice, varies with the chance that another individual has an identical gene (Score: 0.2972)\n",
      "\" 41 The cliches of nationalism, tirelessly and routinely repeated, include many commonplace metaphors of kinship and identity (Score: 0.2972)\n",
      "He wrote: \"Loyalty to one's country, on the other hand, is something we could do without (Score: 0.2972)\n",
      "Indeed, the presence of altruism, particularly toward kin, has required a whole rethinking of traditional notions of survival of the fittest in the biological sciences (Score: 0.2971)\n",
      "The third element in Van Den Berghe's typology of human sociality is \"kin selection,\" the cooperative behavior that animals undertake with their kin (Score: 0.2960)\n",
      "\" 30 Prior to 1789, mutual incomprehensibility among \"citizens\" was a drawback in expressing the \"will of the people\" and thus a check on the exercise of power at the national level (Score: 0.2931)\n",
      "MULTICULTURALISM AND VICTIMIZATION         In its twilight, with a faltering capacity to redeem promises of something for nothing from an empty pocket, the welfare state found it expedient to foster new myths of discrimination (Score: 0.2927)\n",
      "As Charles Tilly notes, the \"ability to give or withhold support afforded (Score: 0.2926)\n",
      "Telepresence will give living individuals the same capacity to span distance at supernatural speed and monitor events from afar that the Greeks supposed was enjoyed by Hermes and Apollo (Score: 0.2906)\n",
      "97 But as practical and pragmatic as such ethnic and religious organization of help can be, more is involved in the reactionary response to the withering of the state (Score: 0.2902)\n",
      "\" For reasons we explore later, the nation and citizenship will be especially sacred to those who value equality highly (Score: 0.2897)\n",
      "Persons at a distance will no longer be obliged to subsidize them (Score: 0.2897)\n",
      "As Margolis suggests, it is easy to imagine that for \"such small bands of hunter-gatherers, closely related, that inclusive selfishness (aside from any prospect of reciprocity or vengeance) would alone support a measure of commitment to group-interest (Score: 0.2888)\n",
      "Thus the proposition that the mind is disposed to think in terms of an out-group that excites enmity or hostility and an in-group to which one feels great amity or loyalty usually reserved for kin (Score: 0.2884)\n",
      "By eliminating the beneficial impact of competition in challenging underachievers to conform to productive norms, the welfare state has helped to create legions of dysfunctional, paranoid, and poorly acculturated people, the social equivalent of a powder keg (Score: 0.2878)\n",
      "\" 66 And, of course, when it comes to sacrifice for the state, the coefficient of imaginary relatedness is always one (Score: 0.2869)\n",
      "In Hirshleifer's words, \"To the extent that members of a group share a common fate or outcome, helping one another becomes self-help (Score: 0.2868)\n",
      "Sovereign Individuals will also have to cope with the corrosive consequences of envy-a difficulty that sometimes detains monarchs, but which will be more intensely felt by persons who are not traditionally venerated but invent their own sovereignty (Score: 0.2852)\n",
      "The Nostalgia for Compulsion         The rise of the Sovereign Individual will not be wholly welcomed as promising new phase of history, even among those who benefit from it most (Score: 0.2849)\n",
      "\"Symbolism's image of the world is distinguished by impeccable order, architectonic structure, hierarchic subordination (Score: 0.2847)\n",
      "Necessity, that imperious all-pervading      law of nature, restrains them within the prescribed bounds (Score: 0.2821)\n",
      "Beliefs and loyalties more sacred than those that bind any citizen to a nation-state today were reconsidered and renounced within a few short years, all because of a technological revolution that came into its own in the last decade of the fifteenth century (Score: 0.2820)\n",
      "The close relationship between state power and nationalism was reflected in language (Score: 0.2819)\n",
      "\" 'Like other prepolitical peoples, they felt that no one could improve upon the natural, \"geometrical\" laws of justice that had not been created by any human power (Score: 0.2802)\n",
      "'That sacrificial altruism does exist in social insects, other nonhuman animals, and humans implies that maximization of self-interest cannot be solely defined in terms of an individual organism's wants and needs (Score: 0.2771)\n",
      "Respect for parents and faithfulness in marriage are the best ways to preserve family life; family life is the best way to bring up morally healthy children (Score: 0.2766)\n",
      "Therefore, feudal commitments that were the basis of chivalry had to be shorn up with a strong sense of honor (Score: 0.2752)\n",
      "\" For many people, nationality is a crucial badge of identity (Score: 0.2750)\n",
      "Some are blinded by anachronistic ideological commitments to socialism and the nation-state (Score: 0.2749)\n",
      "Chivalry and citizenship both led people to kill and to risk death (Score: 0.2737)\n",
      "As we explored earlier, the virtues of chivalry included an emphasis on extreme fidelity to oaths (Score: 0.2710)\n",
      "The privatization of sovereignty will parallel the privatization of conscience of five centuries earlier (Score: 0.2706)\n",
      "Yet to the secular inquisitors and reactionaries of the next millennium, the placing of the once \"sacred\" attributes of nationality onto a market footing to be bought and sold as a matter of cost-benefit calculation will be both infuriating and threatening (Score: 0.2705)\n",
      "Citizenship Goes the Way of Chivalry          In short, citizenship is destined to go the way of chivalry (Score: 0.2704)\n",
      "In-deed, the partisans of the nation- state have already begun to complain of the growing detachment of the cognitive elites (Score: 0.2699)\n",
      "\" 82          The privatization of sovereignty will deflate the industrial-era premium on equality by severing ties of the creators of wealth to nation and place (Score: 0.2697)\n",
      "As Johan Huizinga put it, \"Hatred is the right word to use in this context, for hatred it was, latent, but general and persistent (Score: 0.2693)\n",
      "Far from assuring that the democratic welfare state will be a triumphant system, as has been widely assumed, it was more like seeing that a fraternal twin has died of old age (Score: 0.2687)\n",
      "This aspiration, strengthened by the actual experience of the frontier, and by the influence of the churches, both Protestant and Catholic, framed the patriotism of Americans (Score: 0.2684)\n",
      "Yet in the context of chivalry, willingly donning such a device was a badge of honor (Score: 0.2683)\n",
      "A new moral vocabulary will be required to describe the relations of Sovereign Individuals with one another and what remains of government (Score: 0.2660)\n",
      "not merely a theme for soap operas, it is illustrative of a primordial puzzle that survival of the \"selfish genes\" is probably facilitated if each apparent father behaves as if he actually is the father, even if there is a possibility that he is not (Score: 0.2659)\n",
      "Disdain as a Leading Indicator          Moral outrage against corrupt leaders is not an isolated historical phenomenon but a common precursor of change (Score: 0.2653)\n",
      "A shared morality in a tolerant society was the ideal of John Locke and of early philosophers of liberty (Score: 0.2652)\n",
      "From the vantage point of the Information Society, the spectacle of soldiers in the modern period traveling halfway around the world to entertain death out of loyalty to the nation-state will come to be seen as grotesque and silly (Score: 0.2648)\n",
      "As Jane Bethke Elshtain observed, nation-states indoctrinate citizens more for sacrifice than aggression: \"The young man goes to war not so much to kill as to die, to forfeit his particular body for that of the large body, the body politic (Score: 0.2640)\n",
      "PARALLELS BETWEEN CHIVALRY AND CITIZENSHIP          If you can understand how and why the importance of chivalric oaths faded away with the transition to an industrial organization of society, you will be better positioned to see how citizenship as we now know it could fade away in the Information Age (Score: 0.2639)\n",
      "There is also the difficulty of determining under conditions of uncertainty whether any given gesture of sacrifice will, in fact, primarily benefit relatives rather than others (Score: 0.2631)\n",
      "Self-interested grasping of a conscious kind has far less power to motivate actions than does self-righteous fury (Score: 0.2628)\n",
      "She is also a bit of a hockey whiz and able to come up with the perfect sarcastic comment on a moment's notice (Score: 0.2618)\n",
      "How does this epigenesis work? The identification mechanism employed to harness emotional loyalty to the nation-state makes use of various devices that would have been markers of kinship in the primitive past \"to link the individual's inclusive fitness concerns\" with the interests of the state (Score: 0.2617)\n",
      "Moral traits; namely, self control, will power, industry, perseverance, moderation, regard for family obligations, honesty and the like (Score: 0.2615)\n",
      "Apparently neither the author nor many others had bothered to ask a fundamental question: What common characteristics of state socialism and welfare-state democracies led them to be the final contenders for world domination? This is an important issue (Score: 0.2612)\n",
      "Political correctness is the morality of supposedly oppressed groups (Score: 0.2611)\n",
      "And for those with the talent to take advantage of it, commercialized sovereignty will permit more practical scope for decision-making and self-determination than any form of social organization that has heretofore existed (Score: 0.2609)\n",
      "We are comforted by the knowledge that we belong to a cultural group, which gives us both a sense of participation and of identity (Score: 0.2585)\n",
      "CHANT OF FRENCH SOLDIERS Bogus Kinship          Consider the strong tendency of politicians everywhere to describe the state in terms borrowed from kinship The nation is \"our fatherland\" or \"our motherland (Score: 0.2583)\n",
      "Just as attempts to preserve the power of knights in armor were doomed to fail in the face of gunpowder weapons, so the modem notions of nationalism and citizenship are destined to be short-circuited by microtechnology (Score: 0.2579)\n",
      "If Lasch's argument is to be believed, the purpose of heightening a sense of victimization was to undermine nations, making it easier for the new, footloose information elite to escape the commitments and duties of citizenship (Score: 0.2577)\n",
      "After everyone was exhausted, His Holiness distributed prizes-cloaks, boots, caps, and fine silken tunics (Score: 0.2573)\n",
      "\" In 1776 Thomas Jefferson added another of John Locke's phrases, \"the pursuit of happiness (Score: 0.2572)\n",
      "Identification will be more precisely targeted to genuine affinities, shared interests, or actual kinship, rather than the bogus affinities of citizenship so tirelessly promoted in conventional politics (Score: 0.2570)\n",
      "Cognitive skills will be rewarded as never before (Score: 0.2563)\n",
      "\" Sovereign Individuals will no longer merely accede to what is imposed upon them as human resources of the state (Score: 0.2545)\n",
      "To the proponents of systematic coercion, commercialized sovereignty, which gives individuals a choice of sovereignty services based upon price and quality, will seem no less a sin than the assertion by individuals of the right to veto the judgments of the pope and choose their own path to salvation during the Reformation (Score: 0.2536)\n",
      "Yet these are not all the characteristics that such a social morality might be expected to possess (Score: 0.2529)\n",
      "that one could multiply acts of prayer or worship as often as one liked and gain benefits from them (Score: 0.2526)\n",
      "The whole chain of allegiance carried down the hierarchy to the person of the meanest social standing who was considered worthy to bear arms (Score: 0.2524)\n",
      "” Choristers hired to chant for the souls of the dead commonly substituted profane words in the mass (Score: 0.2510)\n",
      "\" In the first instance, there is always the possibility that some persons who undertake helping actions may do so in the mistaken assumption that they are helping close kin (Score: 0.2508)\n",
      "A woman's privacy was held to include the right to have or not to have children, whatever the consequences to the embryo might be (Score: 0.2506)\n",
      "Productivity was taxed by longer and more elaborate services, obligations to recite repetitious prayers in penance, and the proliferation of feast days of saints during which no work could be done (Score: 0.2506)\n",
      "It was largely immaterial whether the actual effect of received practices was to improve moral character or save souls, just as it is largely immaterial whether a welfare program actually improves the lives of the people to whom it is directed (Score: 0.2503)\n",
      "\"Discrimination,\" however, was alleged to account for the failure of those with low skills to develop more valuable ones (Score: 0.2499)\n",
      "In that sense, it is not a                                              220   coincidence that nationalist propaganda everywhere is dressed up in the vocabulary of kinship (Score: 0.2497)\n",
      "Why? Because rather than facilitating the survival and prosperity of near-relatives in a hostile world, the identification of the individual's \"inclusive fitness\" with a national in-group diluted the value of any act of sacrifice the individual might have made to the level of insignificance for his kin (Score: 0.2497)\n",
      "The democratic welfare state, by contrast, made more modest claims, and thereby employed superior incentives to mobilize greater output (Score: 0.2488)\n",
      "Poverty went from being an apostolic virtue to an unwelcome and often blameworthy     social problem (Score: 0.2488)\n",
      "Their loyalties, unlike those of the mercenaries, private guards, and even remote cousins, will be beyond dispute (Score: 0.2470)\n",
      "Unhappily, however, the recognition that payments to government for protection were, in Lane's words, \"wasteful by ideal standards\" was seldom an actionable insight in the middle of the twentieth century (Score: 0.2469)\n",
      "Altruism and Genetic Inertia         If, as we believe, the \"selfish gene\" thesis is an accurate approximation of what motivates human action, it would be too simple to suppose that the helping or sacrificial behavior it engenders could operate narrowly and solely for the benefit of actual relatives (Score: 0.2465)\n",
      "That is the role the modern democratic welfare state evolved to fulfill (Score: 0.2463)\n",
      "60         This epigenetic tendency to behave with an in-group as if it comprised close relatives creates a vulnerability to manipulation that has commonly been exploited by nationalists to engender sacrificial support for the state (Score: 0.2459)\n",
      "In such a moral society, the individual citizen is able to work toward personal objectives inside a framework of social support (Score: 0.2459)\n",
      "hold on tight 🌠 caching query and response to redis\n",
      "\n",
      "\n",
      "uuid:3dc5ea3d-d5e1-4946-91ed-be0d63af8a12:queries 64a6d24fee5\n"
     ]
    },
    {
     "name": "stdout",
     "output_type": "stream",
     "text": [
      "response and query cached 🌻\n"
     ]
    }
   ],
   "source": [
    "resp = pr.predict(payload)"
   ]
  },
  {
   "cell_type": "code",
   "execution_count": null,
   "metadata": {},
   "outputs": [],
   "source": []
  },
  {
   "cell_type": "code",
   "execution_count": 7,
   "metadata": {},
   "outputs": [
    {
     "data": {
      "text/plain": [
       "OrderedDict([('Never has there been so great a symbolic triumph of efficiency over power',\n",
       "              '0.5449'),\n",
       "             ('Mighty as they are, the power they retain is the power to obliterate, not to command',\n",
       "              '0.4837'),\n",
       "             ('This determines the importance of magnitude of firepower versus efficiency in employing resources',\n",
       "              '0.4654'),\n",
       "             ('209   great bargaining power', '0.4641'),\n",
       "             ('Rather, they are artifacts of past and ongoing efforts to project power',\n",
       "              '0.4592')])"
      ]
     },
     "execution_count": 7,
     "metadata": {},
     "output_type": "execute_result"
    }
   ],
   "source": [
    "resp"
   ]
  },
  {
   "cell_type": "code",
   "execution_count": 36,
   "metadata": {},
   "outputs": [
    {
     "data": {
      "text/plain": [
       "'{\"Never has there been so great a symbolic triumph of efficiency over power\": 0.5449, \"Mighty as they are, the power they retain is the power to obliterate, not to command\": 0.4837, \"This determines the importance of magnitude of firepower versus efficiency in employing resources\": 0.4654, \"209   great bargaining power\": 0.4641, \"Rather, they are artifacts of past and ongoing efforts to project power\": 0.4592, \"Another important factor that weighs in the    balance in determining whether ultimate power is exercised locally or from a    distance is the scale of the predominant enterprises in which people gain their    livelihoods\": 0.459, \"Power will once again be exercised on a small scale\": 0.431, \"They had no choice but to recognize the balance of raw power as they found it\": 0.4261, \"The United States is the world\\'s leading technological power\": 0.4238, \"The Paradoxes of Power          The use of violence to protect against violence is fraught with paradoxes\": 0.4152, \"Not only is power in the world changing, but the work of the world is changing as well\": 0.4132}'"
      ]
     },
     "execution_count": 36,
     "metadata": {},
     "output_type": "execute_result"
    }
   ],
   "source": [
    "# original response\n",
    "resp"
   ]
  },
  {
   "cell_type": "code",
   "execution_count": 14,
   "metadata": {},
   "outputs": [
    {
     "name": "stdout",
     "output_type": "stream",
     "text": [
      "in check for cachce or not\n",
      "file available in redis cache! 😇\n"
     ]
    }
   ],
   "source": [
    "resp = pr.predict(payload)"
   ]
  },
  {
   "cell_type": "code",
   "execution_count": 5,
   "metadata": {},
   "outputs": [],
   "source": [
    "!pip freeze > req.txt"
   ]
  },
  {
   "cell_type": "code",
   "execution_count": 14,
   "metadata": {},
   "outputs": [],
   "source": [
    "import redis\n",
    "redis_host = \"localhost\"\n",
    "redis_port = 6379"
   ]
  },
  {
   "cell_type": "code",
   "execution_count": 15,
   "metadata": {},
   "outputs": [],
   "source": [
    "r = redis.StrictRedis(host=redis_host, port=redis_port, decode_responses=True)"
   ]
  },
  {
   "cell_type": "code",
   "execution_count": 13,
   "metadata": {},
   "outputs": [
    {
     "data": {
      "text/plain": [
       "0"
      ]
     },
     "execution_count": 13,
     "metadata": {},
     "output_type": "execute_result"
    }
   ],
   "source": [
    "r.sadd('uuid:1:query', 'hello')"
   ]
  },
  {
   "cell_type": "code",
   "execution_count": 14,
   "metadata": {},
   "outputs": [],
   "source": [
    "file_list = []\n",
    "with open('tmp/3dc5ea3d-d5e1-4946-91ed-be0d63af8a12/text_content.txt', 'r') as file:\n",
    "    file_list = file.read()"
   ]
  },
  {
   "cell_type": "code",
   "execution_count": 15,
   "metadata": {},
   "outputs": [],
   "source": [
    "def payload_text_preprocess(text):\n",
    "    text = text.replace('\\n', ' ')\n",
    "    text = text.split('.')\n",
    "    text = [x for x in text if len(x) >=50]\n",
    "\n",
    "    return text\n"
   ]
  },
  {
   "cell_type": "code",
   "execution_count": 16,
   "metadata": {},
   "outputs": [],
   "source": [
    "file_list = payload_text_preprocess(file_list)"
   ]
  },
  {
   "cell_type": "code",
   "execution_count": 19,
   "metadata": {},
   "outputs": [
    {
     "name": "stdout",
     "output_type": "stream",
     "text": [
      "144.5735827171234\n"
     ]
    }
   ],
   "source": [
    "avg_char_len_of_lines_in_book = sum(map(len, file_list))/len(file_list)\n",
    "print(avg_char_len_of_lines_in_book)"
   ]
  },
  {
   "cell_type": "code",
   "execution_count": 17,
   "metadata": {},
   "outputs": [],
   "source": [
    "a = r.hincrby('unq_ids', ':query_ids', 1)"
   ]
  },
  {
   "cell_type": "code",
   "execution_count": 18,
   "metadata": {},
   "outputs": [
    {
     "data": {
      "text/plain": [
       "2"
      ]
     },
     "execution_count": 18,
     "metadata": {},
     "output_type": "execute_result"
    }
   ],
   "source": [
    "a"
   ]
  },
  {
   "cell_type": "code",
   "execution_count": 26,
   "metadata": {},
   "outputs": [
    {
     "name": "stdout",
     "output_type": "stream",
     "text": [
      "691eeed7504e4832bf76f1b49603edd816428804\n",
      "40\n",
      "69\n",
      "1eeed7504e4832bf76f1b49603edd816428804\n"
     ]
    }
   ],
   "source": [
    "import hashlib\n",
    "import sys\n",
    "\n",
    "def hash_it(string):\n",
    "    return hashlib.sha1(string.encode('utf-8')).hexdigest()\n",
    "\n",
    "a = hash_it(' You could have pocketed anaverage real return of more than 30 percent annually in U')\n",
    "print(a)\n",
    "print(len(a))\n",
    "print(a[:2])\n",
    "print(a[2::])"
   ]
  },
  {
   "cell_type": "code",
   "execution_count": 29,
   "metadata": {},
   "outputs": [
    {
     "data": {
      "text/plain": [
       "1"
      ]
     },
     "execution_count": 29,
     "metadata": {},
     "output_type": "execute_result"
    }
   ],
   "source": [
    "r.hset(':query_id:1', 'content', 'You could have pocketed anaverage r')"
   ]
  },
  {
   "cell_type": "code",
   "execution_count": 45,
   "metadata": {},
   "outputs": [
    {
     "data": {
      "text/plain": [
       "3"
      ]
     },
     "execution_count": 45,
     "metadata": {},
     "output_type": "execute_result"
    }
   ],
   "source": [
    "r.zadd(':query_id:', {'line': 4, 'score':5, 'sco': 2} )"
   ]
  },
  {
   "cell_type": "code",
   "execution_count": 46,
   "metadata": {},
   "outputs": [
    {
     "data": {
      "text/plain": [
       "['score', 'line', 'sco']"
      ]
     },
     "execution_count": 46,
     "metadata": {},
     "output_type": "execute_result"
    }
   ],
   "source": [
    "r.zrevrange(':query_id:', 0 ,4)"
   ]
  },
  {
   "cell_type": "code",
   "execution_count": null,
   "metadata": {},
   "outputs": [],
   "source": [
    "%time\n",
    "\n",
    "maxi=0\n",
    "maxline=''\n",
    "for l in file_list:\n",
    "    if len(l) > maxi:\n",
    "        maxi=len(l)\n",
    "        maxline=l\n",
    "    line_id = r.hincrby('ids', 'si:lines', 1)\n",
    "    hash_line = hash_it(l)\n",
    "    r.hset('file:si:'+hash_line[:2], hash_line[3::], line_id)"
   ]
  },
  {
   "cell_type": "code",
   "execution_count": null,
   "metadata": {},
   "outputs": [],
   "source": [
    "%time\n",
    "maxi=0\n",
    "maxline=''\n",
    "for l in file_list:\n",
    "    if len(l) > maxi:\n",
    "        maxi=len(l)\n",
    "        maxline=l\n",
    "    line_id = r.hincrby('ids', 'si:lines', 1)\n",
    "    hash_line = hash_it(l)\n",
    "    r.hset('file:si:', l, line_id)"
   ]
  }
 ],
 "metadata": {
  "kernelspec": {
   "display_name": "pyenv_semantic",
   "language": "python",
   "name": "pyenv_semantic"
  },
  "language_info": {
   "codemirror_mode": {
    "name": "ipython",
    "version": 3
   },
   "file_extension": ".py",
   "mimetype": "text/x-python",
   "name": "python",
   "nbconvert_exporter": "python",
   "pygments_lexer": "ipython3",
   "version": "3.8.7"
  }
 },
 "nbformat": 4,
 "nbformat_minor": 2
}
