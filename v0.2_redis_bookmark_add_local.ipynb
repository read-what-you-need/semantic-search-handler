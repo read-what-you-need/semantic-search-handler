{
 "cells": [
  {
   "cell_type": "code",
   "execution_count": 1,
   "metadata": {},
   "outputs": [],
   "source": [
    "from utils import helper_functions"
   ]
  },
  {
   "cell_type": "code",
   "execution_count": 10,
   "metadata": {},
   "outputs": [],
   "source": [
    "# this is an example for cortex release 0.21 and may not deploy correctly on other releases of cortex\n",
    "import os\n",
    "import shutil\n",
    "import glob\n",
    "import math\n",
    "import numpy as np\n",
    "import scipy.spatial\n",
    "from sklearn.cluster import KMeans\n",
    "from sentence_transformers import SentenceTransformer\n",
    "from collections import OrderedDict \n",
    "from itertools import islice\n",
    "import json\n",
    "\n",
    "import boto3\n",
    "\n",
    "import redis\n",
    "\n",
    "from utils import helper_functions, redis_cache_mechanisms\n",
    "\n",
    "\n",
    "class PythonPredictor:\n",
    "\n",
    "    def __init__(self):\n",
    "\n",
    "        # download the information retrieval model trained on MS-MARCO dataset\n",
    "        #self.embedder = SentenceTransformer('distilroberta-base-msmarco-v2')\n",
    "        self.embedder = SentenceTransformer('./models/distilroberta-base-msmarco-v2')\n",
    "        \n",
    "        # set the environment variables\n",
    "        self.redis_host = '127.0.0.1'\n",
    "        self.redis_port = 6379\n",
    "\n",
    "\n",
    "        self.aws_access_key_id = os.getenv('AWS_ACCESS_KEY_ID')\n",
    "        self.aws_secret_access_key = os.getenv('AWS_SECRET_ACCESS_KEY')\n",
    "        \n",
    "        # establish connection with s3 bucket\n",
    "        self.s3 = boto3.client('s3', aws_access_key_id=self.aws_access_key_id , aws_secret_access_key=self.aws_secret_access_key)\n",
    "\n",
    "\n",
    "        # establish connection to redis server to be used as data store persistence\n",
    "\n",
    "        try:\n",
    "            self.r = redis.StrictRedis(host=self.redis_host, port=self.redis_port, decode_responses=True)\n",
    "            \n",
    "            self.r.ping()\n",
    "            print('Connected to redis cache!')\n",
    "        except Exception as ex:\n",
    "            print('\\n\\nredis client error:', ex)\n",
    "            exit('Failed to connect to redis, terminating.')\n",
    "\n",
    "        \n",
    "        self.dir = 'tmp'\n",
    "\n",
    "\n",
    "\n",
    "        #if os.path.exists(self.dir):\n",
    "        #    shutil.rmtree(self.dir)\n",
    "        os.makedirs(self.dir)                                           \n",
    "\n",
    "\n",
    "\n",
    "\n",
    "    def predict(self, payload):\n",
    "        \n",
    "        # extract values from the request payload\n",
    "        \n",
    "        # sess stores a file's uuid\n",
    "        # a unique identifier to link to an uploaded file's text file, encodings and top words\n",
    "        sess = payload[\"uuid\"]\n",
    "     \n",
    "        query = payload[\"text\"]\n",
    "\n",
    "        max_results =  payload[\"top\"]\n",
    "        \n",
    "        acc_greater_than  = payload[\"accuracyGreaterThan\"]\n",
    "        \n",
    "        cache_bool_value = redis_cache_mechanisms.check_if_request_to_be_cached(self, sess, query, max_results)\n",
    "                \n",
    "        if cache_bool_value:\n",
    "            \n",
    "            # as caching has to be done we request for 50 more lines and cache them\n",
    "            # however we return the exact requested amount of lines to the client\n",
    "            max_results+=50\n",
    "            \n",
    "            # check if the files for the corresponding file id are present on the local disk or not\n",
    "            # return 0 if there's no folder present for the file\n",
    "            sess_dir_find = glob.glob('tmp/'+sess)\n",
    "            new_disk_sess = True if len(sess_dir_find)==0 else False\n",
    "\n",
    "            if new_disk_sess:\n",
    "                # create new cache disk session direct\n",
    "\n",
    "                helper_functions.download_text_file_and_embeddings_from_s3_bucket(self, sess)\n",
    "\n",
    "                corpus, corpus_embeddings = helper_functions.load_text_file_and_embeddings(self, sess)\n",
    "\n",
    "            else:\n",
    "\n",
    "\n",
    "                # accessing from already downloaded encodings and files from disk\n",
    "\n",
    "                print('😉 got you\\'ve covered, model alread encoded 🤘')\n",
    "\n",
    "                corpus, corpus_embeddings = helper_functions.load_text_file_and_embeddings(self, sess)\n",
    "\n",
    "\n",
    "            queries = [str(query)]\n",
    "            \n",
    "\n",
    "            query_embeddings = self.embedder.encode(queries)\n",
    "\n",
    "            queries_and_embeddings=(queries, query_embeddings)\n",
    "            corpus_and_embeddings=(corpus, corpus_embeddings)\n",
    "\n",
    "            response = helper_functions.cluster(self, corpus_and_embeddings, queries_and_embeddings, max_results, acc_greater_than)\n",
    "            \n",
    "            redis_cache_mechanisms.cache_response_to_redis(self, sess, query, response)\n",
    "\n",
    "            response = OrderedDict(islice(response.items(), 0, payload['top']))\n",
    "            \n",
    "            return response\n",
    "\n",
    "        else:\n",
    "\n",
    "            # return from redis cache!\n",
    "\n",
    "            print('file available in redis cache! 😇')\n",
    "\n",
    "            response_cache = redis_cache_mechanisms.get_cache_data_from_redis(self, sess, query, max_results)\n",
    "            \n",
    "            return response_cache\n",
    "\n"
   ]
  },
  {
   "cell_type": "code",
   "execution_count": 11,
   "metadata": {},
   "outputs": [
    {
     "name": "stdout",
     "output_type": "stream",
     "text": [
      "Connected to redis cache!\n"
     ]
    }
   ],
   "source": [
    "pr = PythonPredictor()"
   ]
  },
  {
   "cell_type": "code",
   "execution_count": null,
   "metadata": {},
   "outputs": [],
   "source": []
  },
  {
   "cell_type": "code",
   "execution_count": 22,
   "metadata": {},
   "outputs": [],
   "source": [
    "\n",
    "# 0eb1f558-b4e0-4118-80f1-c7b3e1741fca\n",
    "# 3dc5ea3d-d5e1-4946-91ed-be0d63af8a12\n",
    "# c514e5d4-e0c9-4c6a-a35a-d3ad706c419b\n",
    "\n",
    "payload = {\n",
    "    \"uuid\": \"3dc5ea3d-d5e1-4946-91ed-be0d63af8a12\", \n",
    "    \"text\": \"love\",\n",
    "    \"top\": 10,\n",
    "    \"accuracyGreaterThan\": 0.2\n",
    "}\n"
   ]
  },
  {
   "cell_type": "code",
   "execution_count": 23,
   "metadata": {},
   "outputs": [
    {
     "name": "stdout",
     "output_type": "stream",
     "text": [
      "in check for cachce or not\n",
      "😉 got you've covered, model alread encoded 🤘\n",
      "In the 1960s there was a new wave of free love, partly based on the apparent security of the female contraceptive pill, but also promoted by mood-changing drugs and pop music (Score: 0.3742)\n",
      "He wrote: \"Loyalty to one's country, on the other hand, is something we could do without (Score: 0.2976)\n",
      "A shared morality in a tolerant society was the ideal of John Locke and of early philosophers of liberty (Score: 0.2912)\n",
      "Respect for parents and faithfulness in marriage are the best ways to preserve family life; family life is the best way to bring up morally healthy children (Score: 0.2799)\n",
      "The winners, the diarist wrote, were those who made love with those courtesans the greatest number of times (Score: 0.2694)\n",
      "\"My word is my bond\" was for them an absolute principle (Score: 0.2694)\n",
      "\" That makes a very fine phrase, and a very fine aspiration, but \"life, liberty and estate\" is more down to earth than \"life, liberty, and the pursuit of                                                298   happiness (Score: 0.2631)\n",
      "\"the highest perfection of intellectual nature lies in a careful pursuit of true and solid happiness, so the care of ourselves that we mistake not imaginary for real happiness, is the necessary foundation of our liberty (Score: 0.2563)\n",
      "The powerful energetic affirmation that reassures hearts creates acts-that which is said is produced (Score: 0.2517)\n",
      "22           In short, The Prince was a radical work that spelled out a modern recipe whereby an aspiring ruler could succeed in advancing his career at any cost to others (Score: 0.2503)\n",
      "This sense that virtue is dynamic, that it consists in the effort rather than the result, developed strongly in the nineteenth century, and in different ways (Score: 0.2444)\n",
      "THE VANITY OF WISHES          The tendency to overlook what is fundamentally important is not confined solely to the couch dweller watching television (Score: 0.2435)\n",
      "It must be strong-a weak morality will be vulnerable and ineffective (Score: 0.2422)\n",
      "A godless, rootless, and rich elite is unlikely to be happy, or to be loved (Score: 0.2421)\n",
      "Elshtain, \"Sovereignty, Identity, Sacrifice,\" in M (Score: 0.2412)\n",
      "Its essence lies in the new possibilities that arise from these connections (Score: 0.2399)\n",
      "They avoided quarrels, and thought war was always sinful (Score: 0.2366)\n",
      "\"The universe rewards us for understanding it and punishes us for not understanding it (Score: 0.2336)\n",
      "Genuine Affinities          A new extranational understanding of the world and a new way of identifying one's place in it could change the habits of human culture, if not our inbred inclinations (Score: 0.2333)\n",
      "\"The three estates represent the qualities of the Virgin (Score: 0.2315)\n",
      "\" It \"binds 'us' to the homeland-that special place which is more than just a place, more than a mere geophysical area (Score: 0.2258)\n",
      "\"Piety,\" like \"compassion,\" was an almost superstitious invocation (Score: 0.2252)\n",
      "The marriage pattern in Hollywood is not universal in the United States, but the cognitive elite in Euro-                                               303   America has a high divorce rate, probably averaging a third or more (Score: 0.2250)\n",
      "\"The Peace of God\"         In these desperate conditions, the Church helped to launch feudalism through its efforts to negotiate a truce in the violent countryside (Score: 0.2215)\n",
      "\" What of a genuine public good, like the provision of a military force capable of deterring attack by a great power? Such a force has traditionally been expensive (Score: 0.2206)\n",
      "\" For reasons we explore later, the nation and citizenship will be especially sacred to those who value equality highly (Score: 0.2200)\n",
      "They range from the subtle to the absurd, from the biblical injunction to love your neighbor as yourself, to the invocations of black magic (Score: 0.2129)\n",
      "Hirschman, Exit, Voice, and Loyalty (Cambridge: Harvard University Press, 1969), p (Score: 0.2108)\n",
      "As we explored earlier, the virtues of chivalry included an emphasis on extreme fidelity to oaths (Score: 0.2102)\n",
      "There is a well-known poem by Arthur Hugh Clough that brought comfort to many people in the life-and-death struggle of the Second World War (Score: 0.2095)\n",
      "\" The Lockean doctrine of liberty undoubtedly gives a wider range to human preferences than more authoritarian moral systems that seek to treat all people alike, and impose uniformity of conduct (Score: 0.2090)\n",
      "Necessity, that imperious all-pervading      law of nature, restrains them within the prescribed bounds (Score: 0.2078)\n",
      "The morality of the individual is partly framed by education, by what the individual has been taught as a child; it is also partly framed by experience of life (Score: 0.2075)\n",
      ", Mandeville:' Travels (Oxford: Oxford University Press, 1968), p (Score: 0.2049)\n",
      "Holy things will become too common to be deeply felt (Score: 0.2047)\n",
      "Few people thought it odd that Queen Elizabeth II, the head of the Church of England, condoned her youngest son's conduct, her three elder children's marriages having already broken down (Score: 0.2044)\n",
      "The core morality is, however, under attack in the most advanced nations, partly by the very forces of modernity that give these nations their technical edge (Score: 0.2042)\n",
      "\" In 1776 Thomas Jefferson added another of John Locke's phrases, \"the pursuit of happiness (Score: 0.2032)\n",
      "lust as an electron plasma, a dense gas of electrons, behaves as a complex system, so do human beings (Score: 0.2024)\n",
      "Moral traits; namely, self control, will power, industry, perseverance, moderation, regard for family obligations, honesty and the like (Score: 0.2016)\n",
      "In addition to emphasizing the morality of earnings and efficiency and placing a renewed stress on character and trustworthiness, the new morality is also~likely to stress the evil of violence, particularly kidnapping and extortion, which will grow in importance as means of \"shaking down\" individuals whose resources will not otherwise be easy prey to crime (Score: 0.2007)\n",
      "hold on tight 🌠 caching query and response to redis\n",
      "response and query cached 🌻\n"
     ]
    }
   ],
   "source": [
    "resp = pr.predict(payload)"
   ]
  },
  {
   "cell_type": "code",
   "execution_count": 15,
   "metadata": {},
   "outputs": [
    {
     "data": {
      "text/plain": [
       "'{\"The new digital gold will overcome many of the practical                                                163   problems that inhibited direct use of gold as money in the past\": 0.5343, \"Early generations of \\\\\"digital servants\\\\\" already obey the commands of those who control the computers in which they are sealed much as genies were sealed in magic lamps\": 0.4664, \"The new digital money of the Information Age will return control over the medium of exchange to the owners of wealth, who wish to preserve it, rather than to nation-states that wish to spirit it away\": 0.4642, \"Contracting Leverage           The emergence of digital money will not only defeat inflation once and for all; it will also contract leverage in the banking systems of the world\": 0.4323, \"\\\\\"17          Digital money on global computer networks will make every object on Hayek\\'s continuum of liquidity more liquid-except government paper\": 0.4276, \"This new digital form of money is destined to play a pivotal role in cybercommerce\": 0.4275, \"ERADICATING INFLATION            Such possibilities notwithstanding, surely the most momentous consequence of the new digital money will be the end of inflation and the de-leverage of the financial system\": 0.4254, \"\\\\\" 119 In the Information Age, digital resources may prove to be predictable, but they will not be \\'-durable resources\\\\\" of the kind that Hirshleifer identifies with territoriality and anarchy\": 0.4159, \"But it will be as easy for the computer to distinguish these demoninations of digital money as if they were the size of a chipmunk and a rhinoceros\": 0.405, \"The capacity of digital money to deliver micropayments will facilitate the emergence of new types of businesses that heretofore could not have existed, specializing in organizing the distribution of low-value information\": 0.3996, \"The verifiability of the digital receipts rules out this classic expedient for expropriating wealth through inflation\": 0.3879}'"
      ]
     },
     "execution_count": 15,
     "metadata": {},
     "output_type": "execute_result"
    }
   ],
   "source": [
    "resp"
   ]
  },
  {
   "cell_type": "code",
   "execution_count": 14,
   "metadata": {},
   "outputs": [
    {
     "name": "stdout",
     "output_type": "stream",
     "text": [
      "in check for cachce or not\n",
      "file available in redis cache! 😇\n"
     ]
    }
   ],
   "source": [
    "resp = pr.predict(payload)"
   ]
  },
  {
   "cell_type": "code",
   "execution_count": null,
   "metadata": {},
   "outputs": [],
   "source": []
  },
  {
   "cell_type": "code",
   "execution_count": null,
   "metadata": {},
   "outputs": [],
   "source": [
    "import redis\n",
    "redis_host = \"localhost\"\n",
    "redis_port = 6379"
   ]
  },
  {
   "cell_type": "code",
   "execution_count": null,
   "metadata": {},
   "outputs": [],
   "source": [
    "r = redis.StrictRedis(host=redis_host, port=redis_port, decode_responses=True)"
   ]
  },
  {
   "cell_type": "code",
   "execution_count": null,
   "metadata": {},
   "outputs": [],
   "source": [
    "file_list = []\n",
    "with open('tmp/3dc5ea3d-d5e1-4946-91ed-be0d63af8a12/text_content.txt', 'r') as file:\n",
    "    file_list = file.read()"
   ]
  },
  {
   "cell_type": "code",
   "execution_count": null,
   "metadata": {},
   "outputs": [],
   "source": [
    "import hashlib\n",
    "import sys\n",
    "\n",
    "def hash_it(string):\n",
    "    return hashlib.sha1(string.encode('utf-8')).hexdigest()\n",
    "\n",
    "a = hash_it(' You could have pocketed anaverage real return of more than 30 percent annually in U')\n",
    "print(a)\n",
    "print(a[:13])"
   ]
  },
  {
   "cell_type": "code",
   "execution_count": null,
   "metadata": {},
   "outputs": [],
   "source": [
    "%time\n",
    "\n",
    "maxi=0\n",
    "maxline=''\n",
    "for l in file_list:\n",
    "    if len(l) > maxi:\n",
    "        maxi=len(l)\n",
    "        maxline=l\n",
    "    line_id = r.hincrby('ids', 'si:lines', 1)\n",
    "    hash_line = hash_it(l)\n",
    "    r.hset('file:si:'+hash_line[:2], hash_line[3::], line_id)"
   ]
  },
  {
   "cell_type": "code",
   "execution_count": null,
   "metadata": {},
   "outputs": [],
   "source": [
    "%time\n",
    "maxi=0\n",
    "maxline=''\n",
    "for l in file_list:\n",
    "    if len(l) > maxi:\n",
    "        maxi=len(l)\n",
    "        maxline=l\n",
    "    line_id = r.hincrby('ids', 'si:lines', 1)\n",
    "    hash_line = hash_it(l)\n",
    "    r.hset('file:si:', l, line_id)"
   ]
  }
 ],
 "metadata": {
  "kernelspec": {
   "display_name": "pyenv_semantic",
   "language": "python",
   "name": "pyenv_semantic"
  },
  "language_info": {
   "codemirror_mode": {
    "name": "ipython",
    "version": 3
   },
   "file_extension": ".py",
   "mimetype": "text/x-python",
   "name": "python",
   "nbconvert_exporter": "python",
   "pygments_lexer": "ipython3",
   "version": "3.8.7"
  }
 },
 "nbformat": 4,
 "nbformat_minor": 2
}
