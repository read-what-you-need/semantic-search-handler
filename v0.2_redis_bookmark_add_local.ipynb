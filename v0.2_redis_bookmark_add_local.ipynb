{
 "cells": [
  {
   "cell_type": "code",
   "execution_count": 1,
   "metadata": {},
   "outputs": [],
   "source": [
    "from utils import helper_functions"
   ]
  },
  {
   "cell_type": "code",
   "execution_count": 26,
   "metadata": {},
   "outputs": [],
   "source": [
    "# this is an example for cortex release 0.21 and may not deploy correctly on other releases of cortex\n",
    "import os\n",
    "import shutil\n",
    "import glob\n",
    "import math\n",
    "import numpy as np\n",
    "import scipy.spatial\n",
    "from sklearn.cluster import KMeans\n",
    "from sentence_transformers import SentenceTransformer\n",
    "from collections import OrderedDict \n",
    "from itertools import islice\n",
    "import json\n",
    "\n",
    "import boto3\n",
    "\n",
    "import redis\n",
    "\n",
    "from utils import helper_functions, redis_cache_mechanisms\n",
    "\n",
    "\n",
    "class PythonPredictor:\n",
    "\n",
    "    def __init__(self):\n",
    "\n",
    "        # download the information retrieval model trained on MS-MARCO dataset\n",
    "        #self.embedder = SentenceTransformer('distilroberta-base-msmarco-v2')\n",
    "        self.embedder = SentenceTransformer('./models/distilroberta-base-msmarco-v2')\n",
    "        \n",
    "        # set the environment variables\n",
    "        self.redis_host = '127.0.0.1'\n",
    "        self.redis_port = 6379\n",
    "\n",
    "\n",
    "        self.aws_access_key_id = os.getenv('AWS_ACCESS_KEY_ID')\n",
    "        self.aws_secret_access_key = os.getenv('AWS_SECRET_ACCESS_KEY')\n",
    "        \n",
    "         \n",
    "        # establish connection with s3 bucket\n",
    "        \n",
    "        try:  \n",
    "            self.s3 = boto3.client('s3', aws_access_key_id=self.aws_access_key_id , aws_secret_access_key=self.aws_secret_access_key)\n",
    "            print('Connected to s3 bucket!')\n",
    "        except Exception as ex:\n",
    "            print('\\n\\naws client error:', ex)\n",
    "            exit('Failed to connect to s3 bucket, terminating.')\n",
    "        \n",
    "        \n",
    "        # establish connection to redis server to be used as data store persistence\n",
    "\n",
    "        try:\n",
    "            self.r = redis.StrictRedis(host=self.redis_host, port=self.redis_port, decode_responses=True)\n",
    "            \n",
    "            self.r.ping()\n",
    "            print('Connected to redis cache!')\n",
    "        except Exception as ex:\n",
    "            print('\\n\\nredis client error:', ex)\n",
    "            exit('Failed to connect to redis, terminating.')\n",
    "\n",
    "        \n",
    "        self.dir = 'tmp'\n",
    "\n",
    "\n",
    "\n",
    "        if os.path.exists(self.dir):\n",
    "            shutil.rmtree(self.dir)\n",
    "        os.makedirs(self.dir)                                           \n",
    "\n",
    "\n",
    "\n",
    "\n",
    "    def predict(self, payload):\n",
    "        \n",
    "        # extract values from the request payload\n",
    "        \n",
    "        # sess stores a file's uuid\n",
    "        # a unique identifier to link to an uploaded file's text file, encodings and top words\n",
    "        sess = payload[\"uuid\"]\n",
    "     \n",
    "        query = payload[\"text\"]\n",
    "\n",
    "        max_results =  payload[\"top\"]\n",
    "        \n",
    "        acc_greater_than  = payload[\"accuracyGreaterThan\"]\n",
    "        \n",
    "        cache_bool_value = redis_cache_mechanisms.check_if_request_to_be_cached(self, sess, query, max_results)\n",
    "                \n",
    "        if cache_bool_value:\n",
    "            \n",
    "            # as caching has to be done we request for 50 more lines and cache them\n",
    "            # however we return the exact requested amount of lines to the client\n",
    "            max_results+=50\n",
    "            \n",
    "            # check if the files for the corresponding file id are present on the local disk or not\n",
    "            # return 0 if there's no folder present for the file\n",
    "            sess_dir_find = glob.glob('tmp/'+sess)\n",
    "            new_disk_sess = True if len(sess_dir_find)==0 else False\n",
    "\n",
    "            if new_disk_sess:\n",
    "                # create new cache disk session direct\n",
    "\n",
    "                helper_functions.download_text_file_and_embeddings_from_s3_bucket(self, sess)\n",
    "\n",
    "                corpus, corpus_embeddings = helper_functions.load_text_file_and_embeddings(self, sess)\n",
    "\n",
    "            else:\n",
    "\n",
    "\n",
    "                # accessing from already downloaded encodings and files from disk\n",
    "\n",
    "                print('😉 got you\\'ve covered, model alread encoded 🤘')\n",
    "\n",
    "                corpus, corpus_embeddings = helper_functions.load_text_file_and_embeddings(self, sess)\n",
    "\n",
    "\n",
    "            queries = [str(query)]\n",
    "            \n",
    "\n",
    "            query_embeddings = self.embedder.encode(queries)\n",
    "\n",
    "            queries_and_embeddings=(queries, query_embeddings)\n",
    "            corpus_and_embeddings=(corpus, corpus_embeddings)\n",
    "\n",
    "            response = helper_functions.cluster(self, corpus_and_embeddings, queries_and_embeddings, max_results, acc_greater_than)\n",
    "            \n",
    "            # =============================Redis cache layer=================================\n",
    "            \n",
    "            # the response is stored in redis cache, setting up the data model and feeding data into it\n",
    "            redis_cache_mechanisms.cache_response_to_redis(self, sess, query, response)\n",
    "            \n",
    "            # ===============================================================================\n",
    "\n",
    "            response = OrderedDict(islice(response.items(), 0, payload['top']))\n",
    "            \n",
    "            return response\n",
    "\n",
    "        else:\n",
    "\n",
    "            # return from redis cache!\n",
    "\n",
    "            print('file available in redis cache! 😇')\n",
    "\n",
    "            response_cache = redis_cache_mechanisms.get_cache_data_from_redis(self, sess, query, max_results)\n",
    "            \n",
    "            return response_cache\n",
    "\n"
   ]
  },
  {
   "cell_type": "code",
   "execution_count": 27,
   "metadata": {},
   "outputs": [
    {
     "name": "stdout",
     "output_type": "stream",
     "text": [
      "Connected to s3 bucket!\n",
      "Connected to redis cache!\n"
     ]
    }
   ],
   "source": [
    "pr = PythonPredictor()"
   ]
  },
  {
   "cell_type": "code",
   "execution_count": null,
   "metadata": {},
   "outputs": [],
   "source": []
  },
  {
   "cell_type": "code",
   "execution_count": 31,
   "metadata": {},
   "outputs": [],
   "source": [
    "\n",
    "# 0eb1f558-b4e0-4118-80f1-c7b3e1741fca\n",
    "# 3dc5ea3d-d5e1-4946-91ed-be0d63af8a12\n",
    "# c514e5d4-e0c9-4c6a-a35a-d3ad706c419b\n",
    "\n",
    "payload = {\n",
    "    \"uuid\": \"3dc5ea3d-d5e1-4946-91ed-be0d63af8a12\", \n",
    "    \"text\": \"enemy\",\n",
    "    \"top\": 10,\n",
    "    \"accuracyGreaterThan\": 0.2\n",
    "}\n"
   ]
  },
  {
   "cell_type": "code",
   "execution_count": 32,
   "metadata": {},
   "outputs": [
    {
     "name": "stdout",
     "output_type": "stream",
     "text": [
      "in check for cachce or not\n",
      "downloading encoded weights 👣\n",
      "dowload complete!\n",
      "In every case, it was the stranger outside of one's immediate territory who was feared as the enemy (Score: 0.5642)\n",
      "In military terms, defense is predominant over the offense (Score: 0.4267)\n",
      "Sometimes violently, as enemies, sometimes as equal parties in negotiation, sometimes as allies (Score: 0.4267)\n",
      "When two would-be protective agencies send their forces to arrest one another, the result is more akin to civil war than protection (Score: 0.4160)\n",
      "Either interpretation, however, still suggests that the main covert intelligence agency of the U (Score: 0.4112)\n",
      "The only way to achieve effective protection under those conditions was to command a greater capability to employ violence (Score: 0.3830)\n",
      "Sometimes mercenaries or private guards have been employed to fend off attack, but not always as usefully as you might wish (Score: 0.3772)\n",
      "It will employ covert and even violent means to restrict access to liberating technologies (Score: 0.3760)\n",
      "Under such conditions, the entities that will be most effectively militarily are those that commandeer the most resources for war (Score: 0.3680)\n",
      "The fact that intelligent agents will be available to investigate and perhaps retaliate in one fashion or another against those who initiate violence is merely a hint of this new vista in protection (Score: 0.3668)\n",
      "The balance between extortion and protection will tip dramatically in the direction of protection (Score: 0.3588)\n",
      "Nation-states wishing to suppress Sovereign Individuals would have to seize simultaneously both the world's banking havens and its data havens (Score: 0.3562)\n",
      "Elshtain, \"Sovereignty, Identity, Sacrifice,\" in M (Score: 0.3557)\n",
      "Reliance on subordinate managers weakened the resistance of firms to extortion (Score: 0.3542)\n",
      "\"33 Thus a \"monopoly of the use of force within a contiguous territory enabled a protection- producing enterprise to improve its product and reduce its costs (Score: 0.3519)\n",
      "He destroys his competitors in order to seize their assets, which may include taking over their countries and may involve the enslavement of their peoples (Score: 0.3513)\n",
      "In cases where a single armed group could establish predominance in the use of violence, the quality of the protection service it could provide was normally far superior to what could be had from one of several competing protection agencies thrown into battle over the same territory (Score: 0.3469)\n",
      "Almost any state that makes war finds that it cannot pay for the effort from its accumulated reserves and current revenues (Score: 0.3466)\n",
      "Conquest implies the destruction of the other party; commerce implies the satisfaction of the other party (Score: 0.3433)\n",
      "The more effective sovereignties are in limiting defections and encouraging military effort, the more likely they are to prevail militarily (Score: 0.3419)\n",
      "Whenever elites find themselves threatened, their first reaction is denial (Score: 0.3399)\n",
      "The archetype of destructive competition is the conqueror (Score: 0.3378)\n",
      "Escape was an easy solution to personal feuds or exorbitant demands of other kinds (Score: 0.3365)\n",
      "The result would have been to expose themselves to total confiscation by the Soviet Union or another aggressive group capable of organizing violence (Score: 0.3360)\n",
      "It is far simpler to attack five firms than five thousand (Score: 0.3313)\n",
      "At a time when private wars of covetousness were commonplace,'12 the exercise of power and the very survival of individuals depended upon the willingness of others to fulfill their promises of military service under conditions of duress (Score: 0.3280)\n",
      "Even the most violent strikes were usually suppressed within days or weeks by military means (Score: 0.3238)\n",
      "They want to enforce their ability to treat the citizens of a country as assets, not as customers (Score: 0.3210)\n",
      "Enterprises were subject to regular, predictable shakedowns, rather than erratic violence (Score: 0.3199)\n",
      "It is now a reactionary force, inflamed in places with falling incomes and declining prospects like Serbia (Score: 0.3197)\n",
      "Violence is the ultimate boundary force on behavior; thus, if you can understand how the logic of violence will change, you can usefully predict where people will be dropping or picking up the equivalent of one- hundred-dollar bills in the future (Score: 0.3195)\n",
      "It will no longer be possible for either an enemy at war or a criminal to completely extinguish the capability of an individual to retaliate by killing him (Score: 0.3195)\n",
      "They will seek to thwart the movement of capital and people across borders (Score: 0.3189)\n",
      "\"28 Furthermore, independent military units had the additional drawback, as far as the central authorities were concerned, of being capable of resisting government efforts to commandeer domestic resources (Score: 0.3186)\n",
      "Adam Smith described attempted strikes in these terms: \"Their usual pretences are sometimes the high price of provisions; sometimes the great profit which their master make by their work (Score: 0.3177)\n",
      "The agents of reaction in the Inquisition literally incinerated people for uttering what we would consider ordinary expressions of conscience (Score: 0.3167)\n",
      "These sovereignties will compete on terms and conditions of exile (Score: 0.3117)\n",
      "They effectively resisted and bargained with rulers, restraining their ability to commandeer resources (Score: 0.3093)\n",
      "Travel could be effectively discouraged by biological warfare, such as the outbreak of a deadly epidemic (Score: 0.3081)\n",
      "The primary role of government is to provide protection against violence (Score: 0.3067)\n",
      "We suspect that the congenital bullying by nation- states of alternative jurisdictions, exemplified by the Russian invasion of Chechnya, will tend to deprive nations and nationalist fanatics of the sympathy of the new generations that come to maturity under the megapolitical conditions of the Information Age (Score: 0.3062)\n",
      "If the state is all-powerful, then the state becomes the great enemy of life, as in wars of aggression, and of individual property, by taking an inordinate share of the national wealth for its own often undesirable and always wasteful purposes (Score: 0.3034)\n",
      "For this reason, it is to be expected that one or more nation-states will undertake covert action to subvert the appeal of transience (Score: 0.3031)\n",
      "How to fend off violent aggression is history's central dilemma (Score: 0.2987)\n",
      "Increasing returns to violence dictated sharply higher military expenditures, which in turn required ever more aggressive efforts to expropriate wealth (Score: 0.2981)\n",
      "Where contending groups wrestle and maneuver in uneasy balance, the incentives to use predatory violence increase (Score: 0.2978)\n",
      "Even \"small and middling proprietors\" were expected to club together and send one of their number to fight with the infantry (Score: 0.2975)\n",
      "Yet even if the would-be miscreant's accounts proved to be impermeable, there would surely be other costly mischief that an army of intelligent agents could impose in retaliation for a crime (Score: 0.2960)\n",
      "His armies will be invariably and     triumphantly victorious (Score: 0.2942)\n",
      "Note that an Argentine teenager was arrested in 1996 for repeatedly hacking into Pentagon computers (Score: 0.2917)\n",
      "They only attacked and fought those technologies that displaced their own jobs or reduced the demand for skilled labor (Score: 0.2916)\n",
      "Boynton, \"Miners' Vengeance,\" Overland Monthly, vol (Score: 0.2910)\n",
      "These violent frontiers persisted for decades or sometimes for centuries in the border areas of Europe (Score: 0.2899)\n",
      "These violent frontiers persisted for decades or even centuries in the border areas of Europe (Score: 0.2875)\n",
      "Unlike the situation faced by hunter-gatherers in the Stone Age, the main parasite and predator upon the individual at the end of the twentieth century was not likely to be the \"outsider,\" the foreign enemy, but rather the presumed embodiment of the \"in-group,\" the local nation-state itself (Score: 0.2874)\n",
      "For example, a lord on the frontier of Scotland and England who held properties in both kingdoms could theoretically owe military service to both in the event of war (Score: 0.2867)\n",
      "colony, and Eritrea, one of whose exiled leaders fell under the spell of the IRS during its long rebellion against Ethiopian rule (Score: 0.2867)\n",
      "Democracy is more likely                when anyone can use effective weapons without extended training (Score: 0.2847)\n",
      "A dispute between an enclave on the coast of Labrador and a Sovereign Individual will not rightly be described as an \"international\" dispute (Score: 0.2847)\n",
      "A military advantage for a large number of participants on foot in battle (Score: 0.2844)\n",
      "hold on tight 🌠 caching query and response to redis\n",
      "response and query cached 🌻\n"
     ]
    }
   ],
   "source": [
    "resp = pr.predict(payload)"
   ]
  },
  {
   "cell_type": "code",
   "execution_count": 33,
   "metadata": {},
   "outputs": [
    {
     "data": {
      "text/plain": [
       "OrderedDict([(\"In every case, it was the stranger outside of one's immediate territory who was feared as the enemy\",\n",
       "              '0.5642'),\n",
       "             ('In military terms, defense is predominant over the offense',\n",
       "              '0.4267'),\n",
       "             ('Sometimes violently, as enemies, sometimes as equal parties in negotiation, sometimes as allies',\n",
       "              '0.4267'),\n",
       "             ('When two would-be protective agencies send their forces to arrest one another, the result is more akin to civil war than protection',\n",
       "              '0.4160'),\n",
       "             ('Either interpretation, however, still suggests that the main covert intelligence agency of the U',\n",
       "              '0.4112'),\n",
       "             ('The only way to achieve effective protection under those conditions was to command a greater capability to employ violence',\n",
       "              '0.3830'),\n",
       "             ('Sometimes mercenaries or private guards have been employed to fend off attack, but not always as usefully as you might wish',\n",
       "              '0.3772'),\n",
       "             ('It will employ covert and even violent means to restrict access to liberating technologies',\n",
       "              '0.3760'),\n",
       "             ('Under such conditions, the entities that will be most effectively militarily are those that commandeer the most resources for war',\n",
       "              '0.3680'),\n",
       "             ('The fact that intelligent agents will be available to investigate and perhaps retaliate in one fashion or another against those who initiate violence is merely a hint of this new vista in protection',\n",
       "              '0.3668')])"
      ]
     },
     "execution_count": 33,
     "metadata": {},
     "output_type": "execute_result"
    }
   ],
   "source": [
    "resp"
   ]
  },
  {
   "cell_type": "code",
   "execution_count": 14,
   "metadata": {},
   "outputs": [
    {
     "name": "stdout",
     "output_type": "stream",
     "text": [
      "in check for cachce or not\n",
      "file available in redis cache! 😇\n"
     ]
    }
   ],
   "source": [
    "resp = pr.predict(payload)"
   ]
  },
  {
   "cell_type": "code",
   "execution_count": null,
   "metadata": {},
   "outputs": [],
   "source": []
  },
  {
   "cell_type": "code",
   "execution_count": null,
   "metadata": {},
   "outputs": [],
   "source": [
    "import redis\n",
    "redis_host = \"localhost\"\n",
    "redis_port = 6379"
   ]
  },
  {
   "cell_type": "code",
   "execution_count": null,
   "metadata": {},
   "outputs": [],
   "source": [
    "r = redis.StrictRedis(host=redis_host, port=redis_port, decode_responses=True)"
   ]
  },
  {
   "cell_type": "code",
   "execution_count": null,
   "metadata": {},
   "outputs": [],
   "source": [
    "file_list = []\n",
    "with open('tmp/3dc5ea3d-d5e1-4946-91ed-be0d63af8a12/text_content.txt', 'r') as file:\n",
    "    file_list = file.read()"
   ]
  },
  {
   "cell_type": "code",
   "execution_count": null,
   "metadata": {},
   "outputs": [],
   "source": [
    "import hashlib\n",
    "import sys\n",
    "\n",
    "def hash_it(string):\n",
    "    return hashlib.sha1(string.encode('utf-8')).hexdigest()\n",
    "\n",
    "a = hash_it(' You could have pocketed anaverage real return of more than 30 percent annually in U')\n",
    "print(a)\n",
    "print(a[:13])"
   ]
  },
  {
   "cell_type": "code",
   "execution_count": null,
   "metadata": {},
   "outputs": [],
   "source": [
    "%time\n",
    "\n",
    "maxi=0\n",
    "maxline=''\n",
    "for l in file_list:\n",
    "    if len(l) > maxi:\n",
    "        maxi=len(l)\n",
    "        maxline=l\n",
    "    line_id = r.hincrby('ids', 'si:lines', 1)\n",
    "    hash_line = hash_it(l)\n",
    "    r.hset('file:si:'+hash_line[:2], hash_line[3::], line_id)"
   ]
  },
  {
   "cell_type": "code",
   "execution_count": null,
   "metadata": {},
   "outputs": [],
   "source": [
    "%time\n",
    "maxi=0\n",
    "maxline=''\n",
    "for l in file_list:\n",
    "    if len(l) > maxi:\n",
    "        maxi=len(l)\n",
    "        maxline=l\n",
    "    line_id = r.hincrby('ids', 'si:lines', 1)\n",
    "    hash_line = hash_it(l)\n",
    "    r.hset('file:si:', l, line_id)"
   ]
  }
 ],
 "metadata": {
  "kernelspec": {
   "display_name": "pyenv_semantic",
   "language": "python",
   "name": "pyenv_semantic"
  },
  "language_info": {
   "codemirror_mode": {
    "name": "ipython",
    "version": 3
   },
   "file_extension": ".py",
   "mimetype": "text/x-python",
   "name": "python",
   "nbconvert_exporter": "python",
   "pygments_lexer": "ipython3",
   "version": "3.8.7"
  }
 },
 "nbformat": 4,
 "nbformat_minor": 2
}
